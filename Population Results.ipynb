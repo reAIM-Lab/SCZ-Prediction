{
 "cells": [
  {
   "cell_type": "code",
   "execution_count": 1,
   "id": "c03f6077",
   "metadata": {},
   "outputs": [],
   "source": [
    "import pandas as pd\n",
    "import numpy as np\n",
    "import matplotlib.pyplot as plt\n",
    "import scipy.stats as stats\n",
    "import os\n",
    "from tqdm import tqdm\n",
    "from joblib import dump, load\n",
    "import pickle\n",
    "from sklearn.metrics import *\n",
    "import matplotlib\n",
    "import matplotlib.pyplot as plt"
   ]
  },
  {
   "cell_type": "code",
   "execution_count": 2,
   "id": "f62e04ae",
   "metadata": {},
   "outputs": [],
   "source": [
    "data_path = '../prediction_data/'"
   ]
  },
  {
   "cell_type": "code",
   "execution_count": 3,
   "id": "3e78438a",
   "metadata": {},
   "outputs": [],
   "source": [
    "# read in population dataframe\n",
    "num_days_prediction = 90\n",
    "df_pop = pd.read_csv(data_path+\"population.csv\")\n",
    "df_pop['psychosis_diagnosis_date'] = pd.to_datetime(df_pop['psychosis_diagnosis_date'], format=\"%Y-%m-%d\")\n",
    "df_pop['cohort_start_date'] = pd.to_datetime(df_pop['cohort_start_date'])\n",
    "df_pop = df_pop.loc[(df_pop['cohort_start_date']-df_pop['psychosis_diagnosis_date']).dt.days >= num_days_prediction]"
   ]
  },
  {
   "cell_type": "code",
   "execution_count": 4,
   "id": "c6d82852",
   "metadata": {},
   "outputs": [
    {
     "data": {
      "text/html": [
       "<div>\n",
       "<style scoped>\n",
       "    .dataframe tbody tr th:only-of-type {\n",
       "        vertical-align: middle;\n",
       "    }\n",
       "\n",
       "    .dataframe tbody tr th {\n",
       "        vertical-align: top;\n",
       "    }\n",
       "\n",
       "    .dataframe thead th {\n",
       "        text-align: right;\n",
       "    }\n",
       "</style>\n",
       "<table border=\"1\" class=\"dataframe\">\n",
       "  <thead>\n",
       "    <tr style=\"text-align: right;\">\n",
       "      <th></th>\n",
       "      <th>All Patients</th>\n",
       "      <th>SCZ Patients</th>\n",
       "      <th>No SCZ Patients</th>\n",
       "    </tr>\n",
       "  </thead>\n",
       "  <tbody>\n",
       "    <tr>\n",
       "      <th>Missing</th>\n",
       "      <td>16.143139</td>\n",
       "      <td>20.749782</td>\n",
       "      <td>15.909693</td>\n",
       "    </tr>\n",
       "    <tr>\n",
       "      <th>Black or African American</th>\n",
       "      <td>28.325134</td>\n",
       "      <td>29.293810</td>\n",
       "      <td>28.276045</td>\n",
       "    </tr>\n",
       "    <tr>\n",
       "      <th>White</th>\n",
       "      <td>55.531727</td>\n",
       "      <td>49.956408</td>\n",
       "      <td>55.814262</td>\n",
       "    </tr>\n",
       "    <tr>\n",
       "      <th>Male</th>\n",
       "      <td>48.946638</td>\n",
       "      <td>52.048823</td>\n",
       "      <td>48.789432</td>\n",
       "    </tr>\n",
       "    <tr>\n",
       "      <th>Female</th>\n",
       "      <td>51.053362</td>\n",
       "      <td>47.951177</td>\n",
       "      <td>51.210568</td>\n",
       "    </tr>\n",
       "  </tbody>\n",
       "</table>\n",
       "</div>"
      ],
      "text/plain": [
       "                           All Patients  SCZ Patients  No SCZ Patients\n",
       "Missing                       16.143139     20.749782        15.909693\n",
       "Black or African American     28.325134     29.293810        28.276045\n",
       "White                         55.531727     49.956408        55.814262\n",
       "Male                          48.946638     52.048823        48.789432\n",
       "Female                        51.053362     47.951177        51.210568"
      ]
     },
     "execution_count": 4,
     "metadata": {},
     "output_type": "execute_result"
    }
   ],
   "source": [
    "# table 1\n",
    "all_race = df_pop.groupby('race_concept_id').count()['cohort_definition_id']\n",
    "scz_race = df_pop.loc[df_pop['sz_flag']==1].groupby('race_concept_id').count()['cohort_definition_id']\n",
    "noscz_race = df_pop.loc[df_pop['sz_flag']==0].groupby('race_concept_id').count()['cohort_definition_id']\n",
    "race_counts = pd.DataFrame(pd.concat([all_race, scz_race, noscz_race], axis=1).values, \n",
    "             index=['Missing', 'Black or African American', 'White'], columns = ['All Patients', 'SCZ Patients', 'No SCZ Patients'])\n",
    "\n",
    "all_gender = df_pop.groupby('gender_concept_id').count()['cohort_definition_id']\n",
    "scz_gender = df_pop.loc[df_pop['sz_flag']==1].groupby('gender_concept_id').count()['cohort_definition_id']\n",
    "noscz_gender = df_pop.loc[df_pop['sz_flag']==0].groupby('gender_concept_id').count()['cohort_definition_id']\n",
    "gender_counts = pd.DataFrame(pd.concat([all_gender, scz_gender, noscz_gender], axis=1).values, \n",
    "             index=['Male', 'Female'], columns = ['All Patients', 'SCZ Patients', 'No SCZ Patients'])\n",
    "\n",
    "age = pd.DataFrame(df_pop.groupby('sz_flag')['age_diagnosis'].agg(['mean','std']).values, index=['SCZ Patients', 'No SCZ Patients'],\n",
    "            columns = ['Mean Age', 'STD Age']).T\n",
    "age['All Patients'] = df_pop['age_diagnosis'].mean(), df_pop['age_diagnosis'].std()\n",
    "\n",
    "t1_counts = pd.concat([race_counts, gender_counts, age])\n",
    "t1_counts.loc['Total Patients'] = len(df_pop), sum(df_pop['sz_flag']), len(df_pop)-sum(df_pop['sz_flag'])\n",
    "t1_counts\n",
    "\n",
    "t1_percents = t1_counts.loc[['Missing', 'Black or African American', 'White', 'Male','Female']]\n",
    "t1_percents = t1_percents/t1_counts.loc['Total Patients']*100\n",
    "t1_percents"
   ]
  },
  {
   "cell_type": "code",
   "execution_count": 5,
   "id": "16935b04",
   "metadata": {},
   "outputs": [],
   "source": [
    "# table 1: years of observation prior to psychosis\n",
    "all_visits = pd.read_csv(data_path+'temporal_visits.csv')\n",
    "df_pop = df_pop.merge(all_visits.groupby('person_id').min()['visit_start_date'], how='left', left_on='person_id',right_index=True)\n",
    "df_pop.rename({'visit_start_date':'first_visit'}, axis=1, inplace=True)"
   ]
  },
  {
   "cell_type": "code",
   "execution_count": 6,
   "id": "bce8b27d",
   "metadata": {},
   "outputs": [],
   "source": [
    "df_pop['first_visit'] = pd.to_datetime(df_pop['first_visit'])\n",
    "df_pop['years_obs_pre_psychosis'] = (df_pop['psychosis_diagnosis_date']-df_pop['first_visit']).dt.days/365"
   ]
  },
  {
   "cell_type": "code",
   "execution_count": 7,
   "id": "301c8428",
   "metadata": {},
   "outputs": [
    {
     "data": {
      "text/plain": [
       "(4.531069735223514, 2.582191386774663)"
      ]
     },
     "execution_count": 7,
     "metadata": {},
     "output_type": "execute_result"
    }
   ],
   "source": [
    "df_pop.loc[df_pop['sz_flag']==1, 'years_obs_pre_psychosis'].mean(), df_pop.loc[df_pop['sz_flag']==1, 'years_obs_pre_psychosis'].std()"
   ]
  },
  {
   "cell_type": "code",
   "execution_count": 8,
   "id": "ffb31521",
   "metadata": {},
   "outputs": [],
   "source": [
    "# table 1: years of observation between psychosis and index (end of obs) \n",
    "df_pop['years_obs_post_psychosis'] = (df_pop['cohort_start_date']-df_pop['psychosis_diagnosis_date']).dt.days/365"
   ]
  },
  {
   "cell_type": "code",
   "execution_count": 9,
   "id": "e8a63670",
   "metadata": {},
   "outputs": [
    {
     "data": {
      "text/plain": [
       "(4.11269383797681, 2.4711586167600625)"
      ]
     },
     "execution_count": 9,
     "metadata": {},
     "output_type": "execute_result"
    }
   ],
   "source": [
    "df_pop.loc[df_pop['sz_flag']==0, 'years_obs_post_psychosis'].mean(), df_pop.loc[df_pop['sz_flag']==0, 'years_obs_post_psychosis'].std()"
   ]
  },
  {
   "cell_type": "code",
   "execution_count": 10,
   "id": "6c4dfcbe",
   "metadata": {},
   "outputs": [
    {
     "data": {
      "text/plain": [
       "210.81933799376736"
      ]
     },
     "execution_count": 10,
     "metadata": {},
     "output_type": "execute_result"
    }
   ],
   "source": [
    "# table 1: number of visits in the dataset (between psychosis and censor)\n",
    "all_visits = all_visits.loc[all_visits['person_id'].isin(df_pop['person_id'])]\n",
    "all_visits['cohort_start_date'] = pd.to_datetime(all_visits['cohort_start_date'])\n",
    "all_visits['visit_start_date'] = pd.to_datetime(all_visits['visit_start_date'])\n",
    "all_visits['visit_end_date'] = pd.to_datetime(all_visits['visit_end_date'])\n",
    "all_visits = all_visits.loc[(all_visits['cohort_start_date']-all_visits['visit_end_date']).dt.days >= num_days_prediction]\n",
    "all_visits = all_visits.loc[all_visits['visit_start_date'] >= all_visits['psychosis_diagnosis_date']]\n",
    "all_visits = all_visits[['person_id', 'cohort_start_date', 'visit_start_date']].drop_duplicates()\n",
    "\n",
    "num_visits = all_visits.groupby('person_id').count()['cohort_start_date']\n",
    "num_visits.name = 'number_of_visits'\n",
    "df_pop = df_pop.merge(pd.DataFrame(num_visits), how = 'inner', left_on = 'person_id', right_index=True)\n",
    "df_pop['number_of_visits'].mean()"
   ]
  },
  {
   "cell_type": "code",
   "execution_count": 11,
   "id": "949a3219",
   "metadata": {},
   "outputs": [
    {
     "data": {
      "text/plain": [
       "(210.81933799376736, 346.3302476363843)"
      ]
     },
     "execution_count": 11,
     "metadata": {},
     "output_type": "execute_result"
    }
   ],
   "source": [
    "df_pop.loc[df_pop['sz_flag']<=1, 'number_of_visits'].mean(), df_pop.loc[df_pop['sz_flag']<=1, 'number_of_visits'].std()"
   ]
  },
  {
   "cell_type": "code",
   "execution_count": 12,
   "id": "312276b6",
   "metadata": {},
   "outputs": [
    {
     "name": "stdout",
     "output_type": "stream",
     "text": [
      "8516 2.296590024210506\n",
      "8527 0.0005977305230801415\n",
      "0 0.00012822723688242873\n",
      "8532 0.14493400520947344\n",
      "8507 0.14493400520947344\n"
     ]
    }
   ],
   "source": [
    "# Fisher Exact Tests to compare proportion of genders, races\n",
    "# table looks like [[scz_demo, scz_non-demo], [non-scz_demo, non-scz_non-demo]]\n",
    "demos = ['race_concept_id', 'race_concept_id', 'race_concept_id', 'gender_concept_id', 'gender_concept_id']\n",
    "c_ids = [8516, 8527, 0, 8532, 8507]\n",
    "for demo, c_id in zip(demos, c_ids):\n",
    "    scz_demo = len(df_pop.loc[(df_pop['sz_flag']==1)&(df_pop[demo]==c_id)])\n",
    "    scz_nodemo = len(df_pop.loc[(df_pop['sz_flag']==1)&(df_pop[demo]!=c_id)])\n",
    "    noscz_demo = len(df_pop.loc[(df_pop['sz_flag']==0)&(df_pop[demo]==c_id)])\n",
    "    noscz_nodemo = len(df_pop.loc[(df_pop['sz_flag']==0)&(df_pop[demo]!=c_id)])\n",
    "    arr = np.asarray([[scz_demo, scz_nodemo], [noscz_demo, noscz_nodemo]])\n",
    "    print(c_id, stats.fisher_exact(arr).pvalue*5)"
   ]
  },
  {
   "cell_type": "code",
   "execution_count": 13,
   "id": "26bca79d",
   "metadata": {},
   "outputs": [
    {
     "name": "stdout",
     "output_type": "stream",
     "text": [
      "age_diagnosis\n",
      "1.6562577033202295e-17\n",
      "years_obs_pre_psychosis\n",
      "0.028098733337589533\n",
      "number_of_visits\n",
      "6.466589602906364e-10\n",
      "years_obs_post_psychosis\n",
      "1.6434047217876397e-07\n"
     ]
    }
   ],
   "source": [
    "# t-tests to compare continuous variables\n",
    "for feature in ['age_diagnosis', 'years_obs_pre_psychosis', 'number_of_visits', 'years_obs_post_psychosis']:\n",
    "    print(feature)\n",
    "    scz_subset = df_pop.loc[df_pop['sz_flag']==1, feature]\n",
    "    noscz_subset = df_pop.loc[df_pop['sz_flag']==0, feature]\n",
    "    print(stats.ttest_ind(scz_subset, noscz_subset).pvalue*5)"
   ]
  },
  {
   "cell_type": "code",
   "execution_count": 14,
   "id": "a7d22d9c",
   "metadata": {},
   "outputs": [],
   "source": [
    "# read in population dataframe\n",
    "num_days_prediction = 90\n",
    "df_pop = pd.read_csv(data_path+\"population.csv\")\n",
    "df_pop['psychosis_diagnosis_date'] = pd.to_datetime(df_pop['psychosis_diagnosis_date'], format=\"%Y-%m-%d\")\n",
    "df_pop['cohort_start_date'] = pd.to_datetime(df_pop['cohort_start_date'])\n",
    "df_pop = df_pop.loc[(df_pop['cohort_start_date']-df_pop['psychosis_diagnosis_date']).dt.days >= num_days_prediction]\n",
    "\n",
    "# load test data for evaluation\n",
    "train_test_split = pd.read_csv('stored_data/patient_split_4_19.csv')\n",
    "test_labels = pd.read_csv('stored_data/4_19_model_test_output.csv')\n",
    "df_iter_pop = pd.read_csv('stored_data/iterated_population_8_visits.csv')\n",
    "\n",
    "test_labels = test_labels.merge(df_pop[['person_id', 'race_concept_id', 'gender_concept_id']], how='left',\n",
    "                 left_on='person_id', right_on='person_id')\n",
    "\n",
    "test_labels = test_labels.merge(df_iter_pop[['person_id', 'iteration', 'psychosis_diagnosis_date', 'cutoff_date', 'censor_date']], how='inner', left_on = ['person_id', 'iteration'], right_on=['person_id', 'iteration'])"
   ]
  },
  {
   "cell_type": "code",
   "execution_count": 15,
   "id": "fb5aecf9",
   "metadata": {},
   "outputs": [
    {
     "name": "stdout",
     "output_type": "stream",
     "text": [
      "Accuracy 0.9736546553196874\n",
      "Sensitivity 0.9696485623003195\n",
      "Specificity 0.9739302439601684\n",
      "AUPRC 0.9705026334541258\n",
      "PPV 0.718997722095672\n",
      "AUROC 0.9967593570869699\n"
     ]
    }
   ],
   "source": [
    "print('Accuracy', (test_labels['sz_flag'] == test_labels['y_pred']).sum()/len(test_labels))\n",
    "tn, fp, fn, tp = confusion_matrix(test_labels['sz_flag'], test_labels['y_pred']).ravel()\n",
    "print('Sensitivity', (tp/(tp+fn)))\n",
    "print('Specificity', (tn/(tn+fp)))\n",
    "print('AUPRC', average_precision_score(test_labels['sz_flag'], test_labels['prob_1']))\n",
    "print('PPV', precision_score(test_labels['sz_flag'], test_labels['y_pred']))\n",
    "print('AUROC', roc_auc_score(test_labels['sz_flag'], test_labels['prob_1']))"
   ]
  },
  {
   "cell_type": "code",
   "execution_count": 16,
   "id": "5e9890dc",
   "metadata": {},
   "outputs": [],
   "source": [
    "# table 2: model performance\n",
    "def get_ci(y_test, y_pred, pred_prob, threshold=0.95):\n",
    "    \"\"\"\n",
    "    gives us 95% CI for auroc, auprc\n",
    "    \"\"\"\n",
    "    rng = np.random.RandomState(seed=44)\n",
    "    idx = np.arange(y_test.shape[0])\n",
    "\n",
    "    test_auroc = []\n",
    "    test_auprc = []\n",
    "    for i in range(300):\n",
    "        pred_idx = rng.choice(idx, size=idx.shape[0], replace=True)\n",
    "        if len(set(y_test.iloc[pred_idx])) > 1:\n",
    "            test_auroc.append(roc_auc_score(y_test.iloc[pred_idx], pred_prob.iloc[pred_idx]))\n",
    "            test_auprc.append(average_precision_score(y_test.iloc[pred_idx], pred_prob.iloc[pred_idx]))\n",
    "            \n",
    "    auroc_interval = (np.percentile(test_auroc, 2.5), np.percentile(test_auroc, 97.5))\n",
    "    auprc_interval = (np.percentile(test_auprc, 2.5), np.percentile(test_auprc, 97.5))\n",
    "    \n",
    "    return auroc_interval, auprc_interval\n",
    "\n",
    "def results_per_iter(test_value_subset, iterations_name):\n",
    "    iterations = test_value_subset[iterations_name].unique()\n",
    "    iterations.sort()\n",
    "    auroc = []\n",
    "    auroc_ci = []\n",
    "    auprc = []\n",
    "    auprc_ci = []\n",
    "\n",
    "    num_patients = []\n",
    "    frac_pos_samples = []\n",
    "    num_visits = []\n",
    "    num_visits_ci = []\n",
    "    for i in iterations:\n",
    "        df_subset = test_value_subset.loc[test_value_subset[iterations_name]==i]\n",
    "        if len(df_subset['sz_flag'].unique()) > 1:\n",
    "            auroc_val = roc_auc_score(df_subset['sz_flag'], df_subset['prob_1'])\n",
    "            auroc.append(auroc_val)\n",
    "            \n",
    "            auprc_val = average_precision_score(df_subset['sz_flag'], df_subset['prob_1'])\n",
    "            auprc.append(auprc_val)\n",
    "            \n",
    "            confidence_intervals = get_ci(df_subset['sz_flag'], df_subset['y_pred'], df_subset['prob_1'])\n",
    "            auroc_ci.append(confidence_intervals[0])\n",
    "            auprc_ci.append(confidence_intervals[1])\n",
    "        else:\n",
    "            print('iteration',i, 'has only one class')\n",
    "            auroc.append(np.nan)\n",
    "            auroc_ci.append((np.nan, np.nan))\n",
    "            auprc.append(np.nan)\n",
    "            auprc_ci.append((np.nan, np.nan))\n",
    "            \n",
    "\n",
    "        num_patients.append(len(df_subset))\n",
    "        frac_pos_samples.append(sum(df_subset['sz_flag'])/len(df_subset))\n",
    "        num_visits.append(np.mean(df_subset['iteration']*10))\n",
    "        num_visits_ci.append(stats.sem(df_subset['iteration']*10) * stats.t.ppf((1 + 0.95) / 2., len(df_subset)-1))\n",
    "        \n",
    "    return auroc, auroc_ci, auprc, auprc_ci, num_patients, frac_pos_samples, num_visits, num_visits_ci\n",
    "\n",
    "def get_ci_all_table(y_test, y_pred, pred_prob, threshold=0.95):\n",
    "    \"\"\"\n",
    "    gives us 95% CI for auroc, auprc\n",
    "    \"\"\"\n",
    "    rng = np.random.RandomState(seed=44)\n",
    "    idx = np.arange(y_test.shape[0])\n",
    "\n",
    "    test_auroc = []\n",
    "    test_acc = []\n",
    "    test_sensitivity = []\n",
    "    test_specificity = []\n",
    "    test_auprc = []\n",
    "    test_ppv = []\n",
    "    for i in tqdm(range(300)):\n",
    "        pred_idx = rng.choice(idx, size=idx.shape[0], replace=True)\n",
    "        if len(set(y_test.iloc[pred_idx])) > 1:\n",
    "            test_auroc.append(roc_auc_score(y_test.iloc[pred_idx], pred_prob.iloc[pred_idx]))\n",
    "            test_acc.append(accuracy_score(y_test.iloc[pred_idx], y_pred.iloc[pred_idx]))\n",
    "            tn, fp, fn, tp = confusion_matrix(y_test.iloc[pred_idx], y_pred.iloc[pred_idx]).ravel()\n",
    "            test_sensitivity.append(tp/(tp+fn))\n",
    "            test_specificity.append(tn/(tn+fp))\n",
    "            test_auprc.append(average_precision_score(y_test.iloc[pred_idx], pred_prob.iloc[pred_idx]))\n",
    "            test_ppv.append(precision_score(y_test.iloc[pred_idx], y_pred.iloc[pred_idx]))\n",
    "            \n",
    "\n",
    "            \n",
    "    auroc_interval = (np.percentile(test_auroc, 2.5), np.percentile(test_auroc, 97.5))\n",
    "    acc_interval = (np.percentile(test_acc, 2.5), np.percentile(test_acc, 97.5))\n",
    "    sensitivity_interval = (np.percentile(test_sensitivity, 2.5), np.percentile(test_sensitivity, 97.5))\n",
    "    specificity_interval = (np.percentile(test_specificity, 2.5), np.percentile(test_specificity, 97.5))\n",
    "    auprc_interval = (np.percentile(test_auprc, 2.5), np.percentile(test_auprc, 97.5))\n",
    "    ppv_interval = (np.percentile(test_ppv, 2.5), np.percentile(test_ppv, 97.5))\n",
    "\n",
    "    return auroc_interval, acc_interval, sensitivity_interval, specificity_interval, auprc_interval, ppv_interval\n",
    "\n",
    "def create_table2_row(sample_test, prob_col = 'prob_1', round_col = 'y_pred'):\n",
    "    auroc_interval, acc_interval, sensitivity_interval, specificity_interval, auprc_interval, ppv_interval = get_ci_all_table(sample_test['sz_flag'], sample_test[round_col], sample_test[prob_col])\n",
    "    auroc = roc_auc_score(sample_test['sz_flag'], sample_test[prob_col])\n",
    "    acc = accuracy_score(sample_test['sz_flag'], sample_test[round_col])\n",
    "    tn, fp, fn, tp = confusion_matrix(sample_test['sz_flag'], sample_test[round_col]).ravel()\n",
    "    sensitivity = tp/(tp+fn)\n",
    "    specificity = tn/(tn+fp)\n",
    "    auprc = average_precision_score(sample_test['sz_flag'], sample_test[prob_col])\n",
    "    ppv = precision_score(sample_test['sz_flag'], sample_test[round_col])\n",
    "    \n",
    "    return [auroc, auroc_interval, acc, acc_interval, sensitivity, sensitivity_interval, \n",
    "            specificity, specificity_interval, auprc, auprc_interval, ppv, ppv_interval]"
   ]
  },
  {
   "cell_type": "code",
   "execution_count": 17,
   "id": "5365ce52",
   "metadata": {},
   "outputs": [
    {
     "name": "stderr",
     "output_type": "stream",
     "text": [
      "100%|█████████████████████████████████████████| 300/300 [00:26<00:00, 11.39it/s]\n",
      "100%|█████████████████████████████████████████| 300/300 [00:06<00:00, 43.32it/s]\n",
      "100%|█████████████████████████████████████████| 300/300 [00:15<00:00, 19.26it/s]\n",
      "100%|█████████████████████████████████████████| 300/300 [00:05<00:00, 55.80it/s]\n",
      "100%|█████████████████████████████████████████| 300/300 [00:12<00:00, 24.78it/s]\n",
      "100%|█████████████████████████████████████████| 300/300 [00:14<00:00, 20.33it/s]\n"
     ]
    },
    {
     "data": {
      "text/html": [
       "<div>\n",
       "<style scoped>\n",
       "    .dataframe tbody tr th:only-of-type {\n",
       "        vertical-align: middle;\n",
       "    }\n",
       "\n",
       "    .dataframe tbody tr th {\n",
       "        vertical-align: top;\n",
       "    }\n",
       "\n",
       "    .dataframe thead th {\n",
       "        text-align: right;\n",
       "    }\n",
       "</style>\n",
       "<table border=\"1\" class=\"dataframe\">\n",
       "  <thead>\n",
       "    <tr style=\"text-align: right;\">\n",
       "      <th></th>\n",
       "      <th>AUROC</th>\n",
       "      <th>AUROC CI</th>\n",
       "      <th>Accuracy</th>\n",
       "      <th>Accuracy CI</th>\n",
       "      <th>Sensitivity</th>\n",
       "      <th>Sensitivity CI</th>\n",
       "      <th>Specificity</th>\n",
       "      <th>Specificity CI</th>\n",
       "      <th>AUPRC</th>\n",
       "      <th>AUPRC_CI</th>\n",
       "      <th>PPV</th>\n",
       "      <th>PPV_CI</th>\n",
       "    </tr>\n",
       "  </thead>\n",
       "  <tbody>\n",
       "    <tr>\n",
       "      <th>All</th>\n",
       "      <td>0.996759</td>\n",
       "      <td>(0.996384138721135, 0.9970804795533895)</td>\n",
       "      <td>0.973655</td>\n",
       "      <td>(0.9727488610838685, 0.9744497215982789)</td>\n",
       "      <td>0.969649</td>\n",
       "      <td>(0.965757352626335, 0.9734954070737961)</td>\n",
       "      <td>0.973930</td>\n",
       "      <td>(0.9730894524388369, 0.9747863186151428)</td>\n",
       "      <td>0.970503</td>\n",
       "      <td>(0.9677231292030456, 0.9727408823505027)</td>\n",
       "      <td>0.718998</td>\n",
       "      <td>(0.7106157662020686, 0.7295761669799499)</td>\n",
       "    </tr>\n",
       "    <tr>\n",
       "      <th>Black</th>\n",
       "      <td>0.995626</td>\n",
       "      <td>(0.9948705704244786, 0.9963884017585176)</td>\n",
       "      <td>0.967976</td>\n",
       "      <td>(0.9660651911337447, 0.9702281852903731)</td>\n",
       "      <td>0.956208</td>\n",
       "      <td>(0.9471552999417588, 0.9645462333071936)</td>\n",
       "      <td>0.968832</td>\n",
       "      <td>(0.9666495373091327, 0.9707955840789803)</td>\n",
       "      <td>0.963280</td>\n",
       "      <td>(0.9572042098105441, 0.9687715390075705)</td>\n",
       "      <td>0.690650</td>\n",
       "      <td>(0.6738557735203727, 0.707907948646228)</td>\n",
       "    </tr>\n",
       "    <tr>\n",
       "      <th>White</th>\n",
       "      <td>0.997410</td>\n",
       "      <td>(0.9969750024661931, 0.9977952392059906)</td>\n",
       "      <td>0.974559</td>\n",
       "      <td>(0.9735018688274132, 0.9757260462705298)</td>\n",
       "      <td>0.979420</td>\n",
       "      <td>(0.9756006107110486, 0.9829699296678874)</td>\n",
       "      <td>0.974214</td>\n",
       "      <td>(0.973099237806594, 0.9753828121862016)</td>\n",
       "      <td>0.977198</td>\n",
       "      <td>(0.9745175656554802, 0.9795651952946177)</td>\n",
       "      <td>0.729460</td>\n",
       "      <td>(0.7194586430152873, 0.7403759863840321)</td>\n",
       "    </tr>\n",
       "    <tr>\n",
       "      <th>Missing</th>\n",
       "      <td>0.996271</td>\n",
       "      <td>(0.9954004166645439, 0.9971309852212324)</td>\n",
       "      <td>0.978440</td>\n",
       "      <td>(0.976705934652145, 0.9802856190264504)</td>\n",
       "      <td>0.953372</td>\n",
       "      <td>(0.942255460345465, 0.964879921254464)</td>\n",
       "      <td>0.979853</td>\n",
       "      <td>(0.97807071086487, 0.9815541879344948)</td>\n",
       "      <td>0.960486</td>\n",
       "      <td>(0.9546363069262224, 0.9670443690680425)</td>\n",
       "      <td>0.727446</td>\n",
       "      <td>(0.7058429370471865, 0.7475280256793434)</td>\n",
       "    </tr>\n",
       "    <tr>\n",
       "      <th>Women</th>\n",
       "      <td>0.996856</td>\n",
       "      <td>(0.9964229429474907, 0.9972759239940654)</td>\n",
       "      <td>0.975891</td>\n",
       "      <td>(0.9746613440954554, 0.9771898578698017)</td>\n",
       "      <td>0.966052</td>\n",
       "      <td>(0.9605440828909423, 0.9709990686279765)</td>\n",
       "      <td>0.976646</td>\n",
       "      <td>(0.9752815657016453, 0.977911826618621)</td>\n",
       "      <td>0.970930</td>\n",
       "      <td>(0.9672055386910082, 0.9739090797345388)</td>\n",
       "      <td>0.760604</td>\n",
       "      <td>(0.747908343066251, 0.7719354781040312)</td>\n",
       "    </tr>\n",
       "    <tr>\n",
       "      <th>Men</th>\n",
       "      <td>0.996687</td>\n",
       "      <td>(0.9961188312266497, 0.9972786420066084)</td>\n",
       "      <td>0.971820</td>\n",
       "      <td>(0.9706246580076606, 0.9731392016818823)</td>\n",
       "      <td>0.973238</td>\n",
       "      <td>(0.9689319638685296, 0.9779922051490293)</td>\n",
       "      <td>0.971731</td>\n",
       "      <td>(0.9704458301524647, 0.9729954223028898)</td>\n",
       "      <td>0.970636</td>\n",
       "      <td>(0.9675796503174945, 0.9738828276596948)</td>\n",
       "      <td>0.682037</td>\n",
       "      <td>(0.6696593047588465, 0.6945707991035283)</td>\n",
       "    </tr>\n",
       "  </tbody>\n",
       "</table>\n",
       "</div>"
      ],
      "text/plain": [
       "            AUROC                                  AUROC CI  Accuracy  \\\n",
       "All      0.996759   (0.996384138721135, 0.9970804795533895)  0.973655   \n",
       "Black    0.995626  (0.9948705704244786, 0.9963884017585176)  0.967976   \n",
       "White    0.997410  (0.9969750024661931, 0.9977952392059906)  0.974559   \n",
       "Missing  0.996271  (0.9954004166645439, 0.9971309852212324)  0.978440   \n",
       "Women    0.996856  (0.9964229429474907, 0.9972759239940654)  0.975891   \n",
       "Men      0.996687  (0.9961188312266497, 0.9972786420066084)  0.971820   \n",
       "\n",
       "                                      Accuracy CI  Sensitivity  \\\n",
       "All      (0.9727488610838685, 0.9744497215982789)     0.969649   \n",
       "Black    (0.9660651911337447, 0.9702281852903731)     0.956208   \n",
       "White    (0.9735018688274132, 0.9757260462705298)     0.979420   \n",
       "Missing   (0.976705934652145, 0.9802856190264504)     0.953372   \n",
       "Women    (0.9746613440954554, 0.9771898578698017)     0.966052   \n",
       "Men      (0.9706246580076606, 0.9731392016818823)     0.973238   \n",
       "\n",
       "                                   Sensitivity CI  Specificity  \\\n",
       "All       (0.965757352626335, 0.9734954070737961)     0.973930   \n",
       "Black    (0.9471552999417588, 0.9645462333071936)     0.968832   \n",
       "White    (0.9756006107110486, 0.9829699296678874)     0.974214   \n",
       "Missing    (0.942255460345465, 0.964879921254464)     0.979853   \n",
       "Women    (0.9605440828909423, 0.9709990686279765)     0.976646   \n",
       "Men      (0.9689319638685296, 0.9779922051490293)     0.971731   \n",
       "\n",
       "                                   Specificity CI     AUPRC  \\\n",
       "All      (0.9730894524388369, 0.9747863186151428)  0.970503   \n",
       "Black    (0.9666495373091327, 0.9707955840789803)  0.963280   \n",
       "White     (0.973099237806594, 0.9753828121862016)  0.977198   \n",
       "Missing    (0.97807071086487, 0.9815541879344948)  0.960486   \n",
       "Women     (0.9752815657016453, 0.977911826618621)  0.970930   \n",
       "Men      (0.9704458301524647, 0.9729954223028898)  0.970636   \n",
       "\n",
       "                                         AUPRC_CI       PPV  \\\n",
       "All      (0.9677231292030456, 0.9727408823505027)  0.718998   \n",
       "Black    (0.9572042098105441, 0.9687715390075705)  0.690650   \n",
       "White    (0.9745175656554802, 0.9795651952946177)  0.729460   \n",
       "Missing  (0.9546363069262224, 0.9670443690680425)  0.727446   \n",
       "Women    (0.9672055386910082, 0.9739090797345388)  0.760604   \n",
       "Men      (0.9675796503174945, 0.9738828276596948)  0.682037   \n",
       "\n",
       "                                           PPV_CI  \n",
       "All      (0.7106157662020686, 0.7295761669799499)  \n",
       "Black     (0.6738557735203727, 0.707907948646228)  \n",
       "White    (0.7194586430152873, 0.7403759863840321)  \n",
       "Missing  (0.7058429370471865, 0.7475280256793434)  \n",
       "Women     (0.747908343066251, 0.7719354781040312)  \n",
       "Men      (0.6696593047588465, 0.6945707991035283)  "
      ]
     },
     "execution_count": 17,
     "metadata": {},
     "output_type": "execute_result"
    }
   ],
   "source": [
    "table2 = pd.DataFrame(columns = ['AUROC', 'AUROC CI', 'Accuracy', 'Accuracy CI',\n",
    "                                   'Sensitivity', 'Sensitivity CI', 'Specificity', 'Specificity CI',\n",
    "                                'AUPRC', 'AUPRC_CI', 'PPV', 'PPV_CI'])\n",
    "\n",
    "table2.loc['All'] = create_table2_row(test_labels)\n",
    "\n",
    "black_patients = test_labels.loc[test_labels['race_concept_id']==8516]\n",
    "table2.loc['Black'] = create_table2_row(black_patients)\n",
    "\n",
    "white_patients = test_labels.loc[test_labels['race_concept_id']==8527]\n",
    "table2.loc['White'] = create_table2_row(white_patients)\n",
    "\n",
    "missing_race_patients = test_labels.loc[test_labels['race_concept_id']==0]\n",
    "table2.loc['Missing'] = create_table2_row(missing_race_patients)\n",
    "\n",
    "female_patients = test_labels.loc[test_labels['gender_concept_id']==8532]\n",
    "table2.loc['Women'] = create_table2_row(female_patients)\n",
    "\n",
    "male_patients = test_labels.loc[test_labels['gender_concept_id']==8507]\n",
    "table2.loc['Men'] = create_table2_row(male_patients)\n",
    "table2"
   ]
  },
  {
   "cell_type": "code",
   "execution_count": 18,
   "id": "b2aab06d",
   "metadata": {},
   "outputs": [],
   "source": [
    "table2.to_csv('results/table2.csv')"
   ]
  },
  {
   "cell_type": "code",
   "execution_count": 19,
   "id": "46e7d2ed",
   "metadata": {},
   "outputs": [
    {
     "name": "stdout",
     "output_type": "stream",
     "text": [
      "9.745205479452055\n"
     ]
    }
   ],
   "source": [
    "# supplementary figure 1: performance over time\n",
    "test_labels['psychosis_diagnosis_date'] = pd.to_datetime(test_labels['psychosis_diagnosis_date'])\n",
    "test_labels['cutoff_date'] = pd.to_datetime(test_labels['cutoff_date'])\n",
    "test_labels['censor_date'] = pd.to_datetime(test_labels['censor_date'])\n",
    "\n",
    "# get time from psychosis dx to cutoff\n",
    "test_labels['time_to_cutoff'] = (test_labels['cutoff_date']-test_labels['psychosis_diagnosis_date']).dt.days/365\n",
    "print(test_labels['time_to_cutoff'].max())\n",
    "\n",
    "# get time from psychosis dx to censor\n",
    "test_labels['time_to_censor'] = (test_labels['censor_date']-test_labels['psychosis_diagnosis_date']).dt.days/365"
   ]
  },
  {
   "cell_type": "code",
   "execution_count": 20,
   "id": "ebc569ce",
   "metadata": {},
   "outputs": [],
   "source": [
    "# because we have a max of 9.75 years, we will look up to 10 years\n",
    "time_checks = np.arange(0,10.5,0.5)\n",
    "test_labels_with_index = test_labels.set_index(['person_id', 'iteration'])\n",
    "\n",
    "list_timed_subgroups = []\n",
    "for ind in time_checks:\n",
    "\n",
    "    # get the max iteration where the time between psychosis and cutoff is still under our time\n",
    "    most_recent_visit = (test_labels.loc[test_labels['time_to_cutoff']<= ind].groupby('person_id').max()['iteration']).reset_index().values\n",
    "    timed_subgroup = test_labels_with_index.loc[list(map(tuple, most_recent_visit))]\n",
    "\n",
    "    # remove anyone for whom the time between psychosis and censor date is less than the \n",
    "    # amount of time out we are looking (i.e. they have reached their index date)\n",
    "    timed_subgroup = timed_subgroup.loc[timed_subgroup['time_to_censor']>=ind]\n",
    "    \n",
    "    timed_subgroup['time_forward_iteration'] = ind\n",
    "    list_timed_subgroups.append(timed_subgroup)\n",
    "forward_iter_test_labels = pd.concat(list_timed_subgroups)\n",
    "forward_iter_test_labels.reset_index(inplace=True)"
   ]
  },
  {
   "cell_type": "code",
   "execution_count": 21,
   "id": "599174ab",
   "metadata": {},
   "outputs": [],
   "source": [
    "## Forwards iterations, by time\n",
    "iterations = forward_iter_test_labels['time_forward_iteration'].unique()\n",
    "iterations.sort()\n",
    "auroc, auroc_ci, auprc, auprc_ci, num_patients, frac_pos_samples, num_visits, num_visits_ci = results_per_iter(forward_iter_test_labels, 'time_forward_iteration')"
   ]
  },
  {
   "cell_type": "code",
   "execution_count": 22,
   "id": "e67b7cda",
   "metadata": {},
   "outputs": [],
   "source": [
    "black_patients = forward_iter_test_labels.loc[forward_iter_test_labels['race_concept_id']==8516]\n",
    "white_patients = forward_iter_test_labels.loc[forward_iter_test_labels['race_concept_id']==8527]\n",
    "missing_patients = forward_iter_test_labels.loc[forward_iter_test_labels['race_concept_id']==0]\n",
    "\n",
    "female_patients = forward_iter_test_labels.loc[forward_iter_test_labels['gender_concept_id']==8532]\n",
    "male_patients = forward_iter_test_labels.loc[forward_iter_test_labels['gender_concept_id']==8507]"
   ]
  },
  {
   "cell_type": "code",
   "execution_count": 23,
   "id": "199055f5",
   "metadata": {},
   "outputs": [
    {
     "name": "stdout",
     "output_type": "stream",
     "text": [
      "iteration 9.0 has only one class\n",
      "iteration 9.5 has only one class\n",
      "iteration 9.0 has only one class\n",
      "iteration 9.5 has only one class\n",
      "iteration 9.0 has only one class\n",
      "iteration 9.5 has only one class\n"
     ]
    }
   ],
   "source": [
    "auroc_b, auroc_ci_b, auprc_b, auprc_ci_b, num_patients_b, frac_pos_samples_b, num_visits_b, num_visits_ci_b = results_per_iter(black_patients, 'time_forward_iteration')\n",
    "auroc_w, auroc_ci_w, auprc_w, auprc_ci_w, num_patients_w, frac_pos_samples_w, num_visits_w, num_visits_ci_w = results_per_iter(white_patients, 'time_forward_iteration')\n",
    "auroc_f, auroc_ci_f, auprc_f, auprc_ci_f, num_patients_f, frac_pos_samples_f, num_visits_f, num_visits_ci_f = results_per_iter(female_patients, 'time_forward_iteration')\n",
    "auroc_m, auroc_ci_m, auprc_m, auprc_ci_m, num_patients_m, frac_pos_samples_m, num_visits_m, num_visits_ci_m = results_per_iter(male_patients, 'time_forward_iteration')\n",
    "auroc_missing, auroc_ci_missing, auprc_missing, auprc_ci_missing, num_patients_missing, frac_pos_samples_missing, num_visits_missing, num_visits_ci_missing = results_per_iter(missing_patients, 'time_forward_iteration')"
   ]
  },
  {
   "cell_type": "code",
   "execution_count": 24,
   "id": "79ae2f48",
   "metadata": {},
   "outputs": [
    {
     "data": {
      "image/png": "[encoded data removed]",
      "text/plain": [
       "<Figure size 1800x504 with 3 Axes>"
      ]
     },
     "metadata": {
      "needs_background": "light"
     },
     "output_type": "display_data"
    }
   ],
   "source": [
    "font = {'weight' : 'bold',\n",
    "        'size'   : 22}\n",
    "\n",
    "\n",
    "plt.figure(figsize=(25, 7))\n",
    "matplotlib.rc('font', **font)\n",
    "\n",
    "cutoff_ind = 16\n",
    "## Forwards iterations, by time\n",
    "n_years = iterations[0:cutoff_ind]\n",
    "\n",
    "auroc = np.asarray(auroc[0:cutoff_ind])\n",
    "auroc_ci = np.asarray(auroc_ci[0:cutoff_ind])\n",
    "\n",
    "plt.subplot(1,3,1)\n",
    "# all patients\n",
    "plt.plot(n_years, auroc, color = 'black', marker = 'o')\n",
    "plt.fill_between(n_years, np.abs(auroc_ci.T)[0,:], np.abs(auroc_ci.T)[1,:], color='black', alpha=0.3)\n",
    "\n",
    "plt.xlabel('Number of years after psychosis diagnosis')\n",
    "plt.ylabel('Area under the reciever operating curve')\n",
    "plt.title('Overall model performance')\n",
    "plt.ylim([0.95, 1])\n",
    "\n",
    "\n",
    "plt.subplot(1,3,2)\n",
    "## Black Patients\n",
    "auroc_b = np.asarray(auroc_b[0:cutoff_ind])\n",
    "auroc_ci_b = np.asarray(auroc_ci_b[0:cutoff_ind])\n",
    "plt.plot(n_years, auroc_b, label = 'Black Patients', color = 'red', marker = '^')\n",
    "plt.fill_between(n_years, np.abs(auroc_ci_b.T)[0,:], np.abs(auroc_ci_b.T)[1,:], color='red', alpha=0.2)\n",
    "\n",
    "## White Patients\n",
    "auroc_w = np.asarray(auroc_w[0:cutoff_ind])\n",
    "auroc_ci_w = np.asarray(auroc_ci_w[0:cutoff_ind])\n",
    "plt.plot(n_years, auroc_w, label = 'White Patients', color = 'blue', marker = 's')\n",
    "plt.fill_between(n_years, np.abs(auroc_ci_w.T)[0,:], np.abs(auroc_ci_w.T)[1,:], color='blue', alpha=0.2)\n",
    "\n",
    "## Missing Patients\n",
    "auroc_missing = np.asarray(auroc_missing[0:cutoff_ind])\n",
    "auroc_ci_missing = np.asarray(auroc_ci_missing[0:cutoff_ind])\n",
    "plt.plot(n_years, auroc_missing, label = 'Missing Race Patients', color = 'orange', marker = 's')\n",
    "plt.fill_between(n_years, np.abs(auroc_ci_missing.T)[0,:], np.abs(auroc_ci_missing.T)[1,:], color='orange', alpha=0.2)\n",
    "\n",
    "plt.xlabel('Number of years after psychosis diagnosis')\n",
    "plt.ylabel('Area under the reciever operating curve')\n",
    "plt.title('Model performance by race')\n",
    "plt.ylim([0.95, 1])\n",
    "plt.legend()\n",
    "\n",
    "plt.subplot(1,3,3)\n",
    "## Female Patients\n",
    "auroc_f = np.asarray(auroc_f[0:cutoff_ind])\n",
    "auroc_ci_f = np.asarray(auroc_ci_f[0:cutoff_ind])\n",
    "plt.plot(n_years, auroc_f, label = 'Women', color = 'red', marker = 'd')\n",
    "plt.fill_between(n_years, np.abs(auroc_ci_f.T)[0,:], np.abs(auroc_ci_f.T)[1,:], color='red', alpha=0.2)\n",
    "\n",
    "## Male Patients\n",
    "auroc_m = np.asarray(auroc_m[0:cutoff_ind])\n",
    "auroc_ci_m = np.asarray(auroc_ci_m[0:cutoff_ind])\n",
    "plt.plot(n_years, auroc_m, label = 'Men', color = 'blue', marker = 'v')\n",
    "plt.fill_between(n_years, np.abs(auroc_ci_m.T)[0,:], np.abs(auroc_ci_m.T)[1,:], color='blue', alpha=0.2)\n",
    "\n",
    "plt.xlabel('Number of years after psychosis diagnosis')\n",
    "plt.title('Model performance by gender')\n",
    "plt.ylabel('Area under the reciever operating curve')\n",
    "plt.ylim([0.95, 1])\n",
    "plt.legend()\n",
    "plt.tight_layout()\n",
    "plt.savefig('results/xgboost_time_performance_auroc.pdf', dpi=300)\n",
    "plt.show()"
   ]
  },
  {
   "cell_type": "code",
   "execution_count": null,
   "id": "4f372cc5",
   "metadata": {},
   "outputs": [],
   "source": []
  }
 ],
 "metadata": {
  "kernelspec": {
   "display_name": "Python 3",
   "language": "python",
   "name": "python3"
  },
  "language_info": {
   "codemirror_mode": {
    "name": "ipython",
    "version": 3
   },
   "file_extension": ".py",
   "mimetype": "text/x-python",
   "name": "python",
   "nbconvert_exporter": "python",
   "pygments_lexer": "ipython3",
   "version": "3.10.7"
  },
  "vscode": {
   "interpreter": {
    "hash": "aee8b7b246df8f9039afb4144a1f6fd8d2ca17a180786b69acc140d282b71a49"
   }
  }
 },
 "nbformat": 4,
 "nbformat_minor": 5
}
