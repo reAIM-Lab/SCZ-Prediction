{
 "cells": [
  {
   "cell_type": "code",
   "execution_count": 1,
   "id": "16090c56",
   "metadata": {},
   "outputs": [],
   "source": [
    "import numpy as np\n",
    "import os\n",
    "import pandas as pd\n",
    "import pyodbc\n",
    "import time\n",
    "import scipy.stats as stats\n",
    "import matplotlib.pyplot as plt\n",
    "from datetime import datetime\n",
    "from tqdm import tqdm\n",
    "from datetime import datetime\n",
    "import sys\n",
    "import gc\n",
    "from scipy.sparse import csr_matrix\n",
    "import pickle\n",
    "import joblib\n",
    "from itertools import product\n",
    "import matplotlib"
   ]
  },
  {
   "cell_type": "code",
   "execution_count": 2,
   "id": "c4a27b17",
   "metadata": {},
   "outputs": [],
   "source": [
    "data_path = '../prediction_data/'"
   ]
  },
  {
   "cell_type": "markdown",
   "id": "5b93cdbd",
   "metadata": {},
   "source": [
    "### Read in population and visit data"
   ]
  },
  {
   "cell_type": "code",
   "execution_count": 3,
   "id": "ca77fff4",
   "metadata": {},
   "outputs": [],
   "source": [
    "num_days_prediction = 90\n",
    "df_pop = pd.read_csv(data_path+'population.csv')\n",
    "df_pop.rename({'psychosis_dx_date':'psychosis_diagnosis_date'}, axis=1, inplace=True)\n",
    "df_pop['psychosis_diagnosis_date'] = pd.to_datetime(df_pop['psychosis_diagnosis_date'], format=\"%Y-%m-%d\")\n",
    "df_pop['cohort_start_date'] = pd.to_datetime(df_pop['cohort_start_date'])\n",
    "df_pop = df_pop.loc[(df_pop['cohort_start_date']-df_pop['psychosis_diagnosis_date']).dt.days >= num_days_prediction]"
   ]
  },
  {
   "cell_type": "code",
   "execution_count": 4,
   "id": "1086f78b",
   "metadata": {},
   "outputs": [
    {
     "data": {
      "text/html": [
       "<div>\n",
       "<style scoped>\n",
       "    .dataframe tbody tr th:only-of-type {\n",
       "        vertical-align: middle;\n",
       "    }\n",
       "\n",
       "    .dataframe tbody tr th {\n",
       "        vertical-align: top;\n",
       "    }\n",
       "\n",
       "    .dataframe thead th {\n",
       "        text-align: right;\n",
       "    }\n",
       "</style>\n",
       "<table border=\"1\" class=\"dataframe\">\n",
       "  <thead>\n",
       "    <tr style=\"text-align: right;\">\n",
       "      <th></th>\n",
       "      <th>Unnamed: 0</th>\n",
       "      <th>cohort_definition_id</th>\n",
       "      <th>person_id</th>\n",
       "      <th>cohort_start_date</th>\n",
       "      <th>end_date</th>\n",
       "      <th>year_of_birth</th>\n",
       "      <th>race_concept_id</th>\n",
       "      <th>gender_concept_id</th>\n",
       "      <th>scz_diagnosis_date</th>\n",
       "      <th>psychosis_diagnosis_date</th>\n",
       "      <th>age_diagnosis</th>\n",
       "      <th>sz_flag</th>\n",
       "      <th>first_visit</th>\n",
       "    </tr>\n",
       "  </thead>\n",
       "  <tbody>\n",
       "    <tr>\n",
       "      <th>0</th>\n",
       "      <td>0</td>\n",
       "      <td>4149</td>\n",
       "      <td>20000716660</td>\n",
       "      <td>2017-12-31</td>\n",
       "      <td>2017-12-31 00:00:00</td>\n",
       "      <td>2001-01-01</td>\n",
       "      <td>8516</td>\n",
       "      <td>8507</td>\n",
       "      <td>NaN</td>\n",
       "      <td>2011-01-14</td>\n",
       "      <td>17.008219</td>\n",
       "      <td>0</td>\n",
       "      <td>2008-05-12</td>\n",
       "    </tr>\n",
       "    <tr>\n",
       "      <th>1</th>\n",
       "      <td>4</td>\n",
       "      <td>4149</td>\n",
       "      <td>20000727283</td>\n",
       "      <td>2016-06-30</td>\n",
       "      <td>2016-06-30 00:00:00</td>\n",
       "      <td>1997-01-01</td>\n",
       "      <td>8527</td>\n",
       "      <td>8507</td>\n",
       "      <td>NaN</td>\n",
       "      <td>2014-12-08</td>\n",
       "      <td>19.506849</td>\n",
       "      <td>0</td>\n",
       "      <td>2008-01-10</td>\n",
       "    </tr>\n",
       "    <tr>\n",
       "      <th>2</th>\n",
       "      <td>9</td>\n",
       "      <td>4149</td>\n",
       "      <td>20000742581</td>\n",
       "      <td>2017-12-31</td>\n",
       "      <td>2017-12-31 00:00:00</td>\n",
       "      <td>2002-01-01</td>\n",
       "      <td>8527</td>\n",
       "      <td>8507</td>\n",
       "      <td>NaN</td>\n",
       "      <td>2017-02-10</td>\n",
       "      <td>16.008219</td>\n",
       "      <td>0</td>\n",
       "      <td>2008-08-05</td>\n",
       "    </tr>\n",
       "    <tr>\n",
       "      <th>3</th>\n",
       "      <td>15</td>\n",
       "      <td>4149</td>\n",
       "      <td>20000750680</td>\n",
       "      <td>2017-12-31</td>\n",
       "      <td>2017-12-31 00:00:00</td>\n",
       "      <td>2001-01-01</td>\n",
       "      <td>8527</td>\n",
       "      <td>8532</td>\n",
       "      <td>NaN</td>\n",
       "      <td>2017-05-31</td>\n",
       "      <td>17.008219</td>\n",
       "      <td>0</td>\n",
       "      <td>2008-01-09</td>\n",
       "    </tr>\n",
       "    <tr>\n",
       "      <th>4</th>\n",
       "      <td>20</td>\n",
       "      <td>4149</td>\n",
       "      <td>20000756345</td>\n",
       "      <td>2017-12-31</td>\n",
       "      <td>2017-12-31 00:00:00</td>\n",
       "      <td>1987-01-01</td>\n",
       "      <td>8516</td>\n",
       "      <td>8507</td>\n",
       "      <td>NaN</td>\n",
       "      <td>2011-12-17</td>\n",
       "      <td>31.019178</td>\n",
       "      <td>0</td>\n",
       "      <td>2008-01-01</td>\n",
       "    </tr>\n",
       "  </tbody>\n",
       "</table>\n",
       "</div>"
      ],
      "text/plain": [
       "   Unnamed: 0  cohort_definition_id    person_id cohort_start_date  \\\n",
       "0           0                  4149  20000716660        2017-12-31   \n",
       "1           4                  4149  20000727283        2016-06-30   \n",
       "2           9                  4149  20000742581        2017-12-31   \n",
       "3          15                  4149  20000750680        2017-12-31   \n",
       "4          20                  4149  20000756345        2017-12-31   \n",
       "\n",
       "              end_date year_of_birth  race_concept_id  gender_concept_id  \\\n",
       "0  2017-12-31 00:00:00    2001-01-01             8516               8507   \n",
       "1  2016-06-30 00:00:00    1997-01-01             8527               8507   \n",
       "2  2017-12-31 00:00:00    2002-01-01             8527               8507   \n",
       "3  2017-12-31 00:00:00    2001-01-01             8527               8532   \n",
       "4  2017-12-31 00:00:00    1987-01-01             8516               8507   \n",
       "\n",
       "  scz_diagnosis_date psychosis_diagnosis_date  age_diagnosis  sz_flag  \\\n",
       "0                NaN               2011-01-14      17.008219        0   \n",
       "1                NaN               2014-12-08      19.506849        0   \n",
       "2                NaN               2017-02-10      16.008219        0   \n",
       "3                NaN               2017-05-31      17.008219        0   \n",
       "4                NaN               2011-12-17      31.019178        0   \n",
       "\n",
       "  first_visit  \n",
       "0  2008-05-12  \n",
       "1  2008-01-10  \n",
       "2  2008-08-05  \n",
       "3  2008-01-09  \n",
       "4  2008-01-01  "
      ]
     },
     "execution_count": 4,
     "metadata": {},
     "output_type": "execute_result"
    }
   ],
   "source": [
    "all_visits = pd.read_csv(data_path+'temporal_visits.csv')\n",
    "df_pop = df_pop.merge(all_visits.groupby('person_id').min()['visit_start_date'], how='left', left_on='person_id',right_index=True)\n",
    "df_pop.rename({'visit_start_date':'first_visit'}, axis=1, inplace=True)\n",
    "df_pop.head()"
   ]
  },
  {
   "cell_type": "code",
   "execution_count": 5,
   "id": "42fdecda",
   "metadata": {},
   "outputs": [],
   "source": [
    "all_visits = all_visits.loc[all_visits['person_id'].isin(df_pop['person_id'])]\n",
    "all_visits['cohort_start_date'] = pd.to_datetime(all_visits['cohort_start_date'])\n",
    "all_visits['visit_start_date'] = pd.to_datetime(all_visits['visit_start_date'])\n",
    "all_visits['visit_end_date'] = pd.to_datetime(all_visits['visit_end_date'])\n",
    "all_visits['psychosis_diagnosis_date'] = pd.to_datetime(all_visits['psychosis_diagnosis_date'])\n",
    "\n",
    "all_visits = all_visits.loc[(all_visits['cohort_start_date']-all_visits['visit_end_date']).dt.days >= num_days_prediction]\n",
    "all_visits['days_to_cohort_start'] = (all_visits['cohort_start_date']-all_visits['visit_start_date']).dt.days"
   ]
  },
  {
   "cell_type": "markdown",
   "id": "ff79e8ee",
   "metadata": {},
   "source": [
    "### Create sorted visits dataframe"
   ]
  },
  {
   "cell_type": "code",
   "execution_count": 6,
   "id": "6da4502a",
   "metadata": {},
   "outputs": [],
   "source": [
    "sorted_visits = all_visits.groupby('person_id').apply(pd.DataFrame.sort_values, ['visit_start_date'])\n",
    "sorted_visits.reset_index(drop=True, inplace=True)\n",
    "sorted_visits = sorted_visits.merge(df_pop[['person_id', 'first_visit']], how = 'left', left_on = 'person_id', right_on = 'person_id')\n",
    "sorted_visits = sorted_visits[['person_id', 'psychosis_diagnosis_date', 'first_visit', 'visit_start_date', 'cohort_start_date']].drop_duplicates()\n",
    "sorted_visits = sorted_visits.loc[(sorted_visits['visit_start_date']>sorted_visits['psychosis_diagnosis_date'])]"
   ]
  },
  {
   "cell_type": "code",
   "execution_count": 7,
   "id": "9d0bd07f",
   "metadata": {},
   "outputs": [],
   "source": [
    "nth_visit = np.asarray(sorted_visits.groupby('person_id').cumcount())\n",
    "sorted_visits['nth_visit'] = nth_visit"
   ]
  },
  {
   "cell_type": "code",
   "execution_count": 8,
   "id": "5e8ec68f",
   "metadata": {},
   "outputs": [],
   "source": [
    "sorted_visits['years to diagnosis'] = (sorted_visits['cohort_start_date']-sorted_visits['psychosis_diagnosis_date']).dt.days/365\n",
    "max_visits = sorted_visits.groupby('person_id').max()[['nth_visit', 'years to diagnosis']]\n",
    "max_visits['visits_per_year'] = max_visits['nth_visit']/max_visits['years to diagnosis']"
   ]
  },
  {
   "cell_type": "code",
   "execution_count": 9,
   "id": "2121ad50",
   "metadata": {},
   "outputs": [
    {
     "name": "stderr",
     "output_type": "stream",
     "text": [
      "No artists with labels found to put in legend.  Note that artists whose label start with an underscore are ignored when legend() is called with no argument.\n"
     ]
    },
    {
     "data": {
      "image/png": "[encoded data removed]",
      "text/plain": [
       "<Figure size 432x288 with 1 Axes>"
      ]
     },
     "metadata": {
      "needs_background": "light"
     },
     "output_type": "display_data"
    },
    {
     "name": "stdout",
     "output_type": "stream",
     "text": [
      "Median visits per year 26.120977895788766\n",
      "Number of patients with outlier visits per year 984\n"
     ]
    }
   ],
   "source": [
    "q3 = np.quantile(max_visits['visits_per_year'], 0.75)\n",
    "q1 = np.quantile(max_visits['visits_per_year'], 0.25)\n",
    "outlier_top = q3 + 3*(q3-q1)\n",
    "\n",
    "\n",
    "plt.hist(max_visits['visits_per_year'], bins = 20, range = (0,outlier_top))\n",
    "plt.xlabel('mean visits per year')\n",
    "plt.legend()\n",
    "plt.show()\n",
    "print('Median visits per year', max_visits['visits_per_year'].median())\n",
    "print('Number of patients with outlier visits per year', sum(max_visits['visits_per_year']>outlier_top))"
   ]
  },
  {
   "cell_type": "code",
   "execution_count": 10,
   "id": "cc808e83",
   "metadata": {},
   "outputs": [
    {
     "data": {
      "image/png": "[encoded data removed]",
      "text/plain": [
       "<Figure size 432x288 with 1 Axes>"
      ]
     },
     "metadata": {
      "needs_background": "light"
     },
     "output_type": "display_data"
    },
    {
     "name": "stdout",
     "output_type": "stream",
     "text": [
      "26.120977895788766\n",
      "984\n"
     ]
    }
   ],
   "source": [
    "max_visits_by_outcome = max_visits.merge(df_pop[['person_id', 'sz_flag']], how='inner', left_index = True, right_on='person_id')\n",
    "max_visits_scz = max_visits_by_outcome.loc[max_visits_by_outcome['sz_flag']==1]\n",
    "max_visits_noscz = max_visits_by_outcome.loc[max_visits_by_outcome['sz_flag']==0]\n",
    "\n",
    "plt.hist(max_visits_scz['visits_per_year'], bins = 20, range = (0,outlier_top), alpha=0.5, density=True, label = 'SCZ')\n",
    "plt.hist(max_visits_noscz['visits_per_year'], bins = 20, range = (0,outlier_top), alpha=0.5, density=True, label = 'No SCZ')\n",
    "plt.legend()\n",
    "plt.xlabel('Mean visits per year')\n",
    "plt.show()\n",
    "print(max_visits['visits_per_year'].median())\n",
    "print(sum(max_visits['visits_per_year']>outlier_top))\n"
   ]
  },
  {
   "cell_type": "markdown",
   "id": "7f414cb1",
   "metadata": {},
   "source": [
    "### for each patient, what is the median number of days between visits if we chunk at every 6?"
   ]
  },
  {
   "cell_type": "code",
   "execution_count": 13,
   "id": "37a2d1e0",
   "metadata": {},
   "outputs": [
    {
     "name": "stdout",
     "output_type": "stream",
     "text": [
      "Median of the days between visits per person 61.0\n",
      "Median days between visits 20.0\n"
     ]
    }
   ],
   "source": [
    "check_dates = sorted_visits.copy()\n",
    "check_dates = check_dates.loc[check_dates['nth_visit']%8==0]\n",
    "check_dates['date shift'] = check_dates['visit_start_date'].shift(1)\n",
    "check_dates = check_dates.loc[check_dates['nth_visit']>0]\n",
    "check_dates['days_between_visits'] = (check_dates['visit_start_date']-check_dates['date shift']).dt.days\n",
    "time_between_visits = check_dates.groupby('person_id').agg({'days_between_visits': ['min','max','mean','median']})\n",
    "time_between_visits['days_between_visits']['mean'].mean(), check_dates['days_between_visits'].mean()\n",
    "print('Median of the days between visits per person', time_between_visits['days_between_visits']['median'].median())\n",
    "print('Median days between visits', check_dates['days_between_visits'].median())"
   ]
  },
  {
   "cell_type": "code",
   "execution_count": null,
   "id": "2ca4721b",
   "metadata": {},
   "outputs": [],
   "source": []
  },
  {
   "cell_type": "code",
   "execution_count": null,
   "id": "cfb12bfe",
   "metadata": {},
   "outputs": [],
   "source": []
  }
 ],
 "metadata": {
  "kernelspec": {
   "display_name": "Python 3 (ipykernel)",
   "language": "python",
   "name": "python3"
  },
  "language_info": {
   "codemirror_mode": {
    "name": "ipython",
    "version": 3
   },
   "file_extension": ".py",
   "mimetype": "text/x-python",
   "name": "python",
   "nbconvert_exporter": "python",
   "pygments_lexer": "ipython3",
   "version": "3.10.12"
  }
 },
 "nbformat": 4,
 "nbformat_minor": 5
}
