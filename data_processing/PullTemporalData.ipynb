{
 "cells": [
  {
   "cell_type": "code",
   "execution_count": 1,
   "id": "bcd190dd",
   "metadata": {},
   "outputs": [],
   "source": [
    "import numpy as np\n",
    "import os\n",
    "import pandas as pd\n",
    "import pymssql\n",
    "import time\n",
    "import pickle\n",
    "import gc"
   ]
  },
  {
   "cell_type": "code",
   "execution_count": 3,
   "id": "b57afa2c",
   "metadata": {},
   "outputs": [],
   "source": [
    "save_path = 'SAVE PATH'\n",
    "conn = 'CONNECTION TO SQL SERVER'"
   ]
  },
  {
   "cell_type": "code",
   "execution_count": 4,
   "id": "93437351",
   "metadata": {},
   "outputs": [],
   "source": [
    "df_pop = pd.read_csv(save_path+'population.csv')"
   ]
  },
  {
   "cell_type": "code",
   "execution_count": 5,
   "id": "14c948c5",
   "metadata": {},
   "outputs": [
    {
     "name": "stderr",
     "output_type": "stream",
     "text": [
      "/tmp/ipykernel_3377836/1189066159.py:2: UserWarning: pandas only supports SQLAlchemy connectable (engine/connection) or database string URI or sqlite3 DBAPI2 connection. Other DBAPI2 objects are not tested. Please consider using SQLAlchemy.\n",
      "  pc_pts = pd.io.sql.read_sql(\"SELECT person_id FROM results.ak4885_psychosis_cohort_3yrs\", conn)\n"
     ]
    },
    {
     "name": "stdout",
     "output_type": "stream",
     "text": [
      "Intersection 63062 63062\n",
      "Difference 0\n"
     ]
    }
   ],
   "source": [
    "# check that all patients are in psychosis_cohort\n",
    "pc_pts = pd.io.sql.read_sql(\"SELECT person_id FROM results.psychosis_cohort_3yrs\", conn)\n",
    "print('Intersection', len(set(df_pop['person_id']).intersection(pc_pts['person_id'])), len(df_pop['person_id']))\n",
    "print('Difference', len(set(df_pop['person_id']).difference(pc_pts['person_id'])))"
   ]
  },
  {
   "cell_type": "markdown",
   "id": "ba6b9b43",
   "metadata": {},
   "source": [
    "# Medications"
   ]
  },
  {
   "cell_type": "code",
   "execution_count": 6,
   "id": "cc299bf7",
   "metadata": {},
   "outputs": [
    {
     "name": "stderr",
     "output_type": "stream",
     "text": [
      "/tmp/ipykernel_3377836/3326759827.py:5: UserWarning: pandas only supports SQLAlchemy connectable (engine/connection) or database string URI or sqlite3 DBAPI2 connection. Other DBAPI2 objects are not tested. Please consider using SQLAlchemy.\n",
      "  for chunk in pd.io.sql.read_sql(meds_query, conn, chunksize=1000000):\n"
     ]
    }
   ],
   "source": [
    "meds_query = (\"SELECT pc.person_id, pc.end_date, drug_era_id, drug_concept_id, drug_era_start_date, drug_era_end_date, drug_exposure_count, gap_days \"+ \n",
    "                 \"FROM results.psychosis_cohort_3yrs as pc \"+\n",
    "                   \"LEFT JOIN dbo.drug_era on drug_era.person_id = pc.person_id\")                \n",
    "list_chunks = []\n",
    "for chunk in pd.io.sql.read_sql(meds_query, conn, chunksize=1000000):\n",
    "    list_chunks.append(chunk.loc[chunk['person_id'].isin(df_pop['person_id'])])\n",
    "all_meds = pd.concat(list_chunks)\n",
    "all_meds.drop_duplicates(inplace=True)\n"
   ]
  },
  {
   "cell_type": "code",
   "execution_count": 8,
   "id": "9bd265bd",
   "metadata": {},
   "outputs": [
    {
     "name": "stdout",
     "output_type": "stream",
     "text": [
      "3119950 3119950\n",
      "3119950\n"
     ]
    }
   ],
   "source": [
    "all_meds = all_meds.loc[all_meds['person_id'].isin(list(df_pop['person_id']))]\n",
    "all_meds = all_meds.merge(df_pop[['person_id', 'cohort_start_date', 'psychosis_diagnosis_date']], how='left', left_on = 'person_id', right_on='person_id')\n",
    "all_meds = all_meds.loc[all_meds['drug_concept_id']>0]\n",
    "all_meds.drop_duplicates(inplace=True)\n",
    "all_meds['drug_era_id'] = all_meds['drug_era_id'].astype(int)\n",
    "print(len(all_meds), len(all_meds['drug_era_id'].unique()))\n",
    "# note that one drug_era_id refers to prescriptions with different start/end dates?\n",
    "print(len(all_meds[['person_id', 'drug_era_id', 'drug_concept_id', 'drug_era_start_date', 'drug_era_end_date']].drop_duplicates()))"
   ]
  },
  {
   "cell_type": "code",
   "execution_count": 9,
   "id": "518d6eaf",
   "metadata": {},
   "outputs": [
    {
     "name": "stdout",
     "output_type": "stream",
     "text": [
      "0\n",
      "3119950\n",
      "62564\n"
     ]
    }
   ],
   "source": [
    "print(all_meds.isna().sum().sum())\n",
    "print(len(all_meds))\n",
    "print(len(all_meds['person_id'].unique()))\n",
    "all_meds.to_csv(save_path+'temporal_medications.csv', index=False)"
   ]
  },
  {
   "cell_type": "markdown",
   "id": "eea3e182",
   "metadata": {},
   "source": [
    "# Visits"
   ]
  },
  {
   "cell_type": "code",
   "execution_count": 12,
   "id": "9b910bdc",
   "metadata": {},
   "outputs": [
    {
     "name": "stderr",
     "output_type": "stream",
     "text": [
      "/tmp/ipykernel_3377836/3905319189.py:6: UserWarning: pandas only supports SQLAlchemy connectable (engine/connection) or database string URI or sqlite3 DBAPI2 connection. Other DBAPI2 objects are not tested. Please consider using SQLAlchemy.\n",
      "  for chunk in pd.io.sql.read_sql(visits_query, conn, chunksize=1000000):\n"
     ]
    }
   ],
   "source": [
    "visits_query = (\"SELECT pc.person_id, pc.end_date, visit_occurrence_id, visit_concept_id, visit_start_date, visit_end_date, visit_type_concept_id \" +\n",
    "                   \"FROM results.psychosis_cohort_3yrs as pc \"+\n",
    "                   \"LEFT JOIN dbo.visit_occurrence as v on v.person_id = pc.person_id\")\n",
    "\n",
    "list_chunks = []\n",
    "for chunk in pd.io.sql.read_sql(visits_query, conn, chunksize=1000000):\n",
    "    list_chunks.append(chunk.loc[chunk['person_id'].isin(df_pop['person_id'])])\n",
    "all_visits = pd.concat(list_chunks)\n",
    "all_visits.drop_duplicates(inplace=True)"
   ]
  },
  {
   "cell_type": "code",
   "execution_count": 13,
   "id": "510a2ba8",
   "metadata": {},
   "outputs": [
    {
     "name": "stdout",
     "output_type": "stream",
     "text": [
      "8023260 8023260\n"
     ]
    }
   ],
   "source": [
    "all_visits = all_visits.loc[all_visits['person_id'].isin(list(df_pop['person_id']))]\n",
    "all_visits = all_visits.merge(df_pop[['person_id', 'cohort_start_date', 'psychosis_diagnosis_date']], how='left', left_on = 'person_id', right_on='person_id')\n",
    "all_visits = all_visits.loc[all_visits['visit_concept_id']>0]\n",
    "all_visits.drop_duplicates(inplace=True)\n",
    "all_visits['visit_occurrence_id'] = all_visits['visit_occurrence_id'].astype(int)\n",
    "print(len(all_visits), len(all_visits['visit_occurrence_id'].unique()))"
   ]
  },
  {
   "cell_type": "code",
   "execution_count": 14,
   "id": "80bfa8f4",
   "metadata": {},
   "outputs": [
    {
     "name": "stdout",
     "output_type": "stream",
     "text": [
      "0\n",
      "8023260\n",
      "63062\n"
     ]
    }
   ],
   "source": [
    "print(all_visits.isna().sum().sum())\n",
    "print(len(all_visits))\n",
    "print(len(all_visits['person_id'].unique()))\n",
    "all_visits.to_csv(save_path+'temporal_visits.csv', index=False)"
   ]
  },
  {
   "cell_type": "code",
   "execution_count": 16,
   "id": "c52cd353",
   "metadata": {},
   "outputs": [
    {
     "data": {
      "text/plain": [
       "0"
      ]
     },
     "execution_count": 16,
     "metadata": {},
     "output_type": "execute_result"
    }
   ],
   "source": [
    "del all_visits\n",
    "gc.collect()"
   ]
  },
  {
   "cell_type": "markdown",
   "id": "9899c0c6",
   "metadata": {},
   "source": [
    "# Procedures"
   ]
  },
  {
   "cell_type": "code",
   "execution_count": 17,
   "id": "f41f1c95",
   "metadata": {},
   "outputs": [
    {
     "name": "stderr",
     "output_type": "stream",
     "text": [
      "/tmp/ipykernel_3377836/2806367505.py:7: UserWarning: pandas only supports SQLAlchemy connectable (engine/connection) or database string URI or sqlite3 DBAPI2 connection. Other DBAPI2 objects are not tested. Please consider using SQLAlchemy.\n",
      "  for chunk in pd.io.sql.read_sql(procedures_query, conn, chunksize=1000000):\n"
     ]
    }
   ],
   "source": [
    "procedures_query = (\"SELECT DISTINCT pc.person_id, pc.end_date, procedure_occurrence_id, procedure_date, procedure_concept_id, c.concept_name \"+\n",
    "                  \"FROM results.psychosis_cohort_3yrs as pc \"+\n",
    "                  \"LEFT JOIN dbo.procedure_occurrence as po on po.person_id = pc.person_id \"+\n",
    "                  \"LEFT JOIN dbo.concept as c on c.concept_id = po.procedure_concept_id\")\n",
    "\n",
    "list_chunks = []\n",
    "for chunk in pd.io.sql.read_sql(procedures_query, conn, chunksize=1000000):\n",
    "    list_chunks.append(chunk.loc[chunk['person_id'].isin(df_pop['person_id'])])\n",
    "all_procedures = pd.concat(list_chunks)\n",
    "all_procedures.drop_duplicates(inplace=True)"
   ]
  },
  {
   "cell_type": "code",
   "execution_count": 19,
   "id": "9a8eb313",
   "metadata": {},
   "outputs": [
    {
     "name": "stdout",
     "output_type": "stream",
     "text": [
      "12152771 12152771 12152771\n"
     ]
    }
   ],
   "source": [
    "all_procedures = all_procedures.loc[all_procedures['person_id'].isin(list(df_pop['person_id']))]\n",
    "all_procedures = all_procedures.loc[all_procedures['procedure_concept_id']>0]\n",
    "all_procedures = all_procedures.merge(df_pop[['person_id', 'cohort_start_date', 'psychosis_diagnosis_date']], how='left', left_on = 'person_id', right_on='person_id')\n",
    "all_procedures['procedure_occurrence_id'] = all_procedures['procedure_occurrence_id'].astype(int)\n",
    "all_procedures.drop_duplicates(inplace=True)\n",
    "print(len(all_procedures), len(all_procedures.drop_duplicates()), len(all_procedures[['person_id', 'procedure_occurrence_id', 'procedure_date', 'procedure_concept_id']].drop_duplicates()))"
   ]
  },
  {
   "cell_type": "code",
   "execution_count": 20,
   "id": "c36ba1f6",
   "metadata": {},
   "outputs": [
    {
     "name": "stdout",
     "output_type": "stream",
     "text": [
      "0\n",
      "12152771\n",
      "63061\n"
     ]
    }
   ],
   "source": [
    "print(all_procedures.isna().sum().sum())\n",
    "print(len(all_procedures))\n",
    "print(len(all_procedures['person_id'].unique()))\n",
    "all_procedures.to_csv(save_path+'temporal_procedures.csv', index=False)"
   ]
  },
  {
   "cell_type": "markdown",
   "id": "c4c917b3",
   "metadata": {},
   "source": [
    "# Labs"
   ]
  },
  {
   "cell_type": "code",
   "execution_count": 22,
   "id": "eb89c41f",
   "metadata": {},
   "outputs": [
    {
     "name": "stderr",
     "output_type": "stream",
     "text": [
      "/tmp/ipykernel_3377836/341783702.py:7: UserWarning: pandas only supports SQLAlchemy connectable (engine/connection) or database string URI or sqlite3 DBAPI2 connection. Other DBAPI2 objects are not tested. Please consider using SQLAlchemy.\n",
      "  for chunk in pd.io.sql.read_sql(measurements_query, conn, chunksize=1000000):\n"
     ]
    }
   ],
   "source": [
    "measurements_query = (\"SELECT measurement_id, pc.person_id, pc.end_date, measurement_date, measurement_concept_id, c.concept_name \"+\n",
    "                  \"FROM results.psychosis_cohort_3yrs as pc \"+\n",
    "                  \"LEFT JOIN dbo.measurement as m on m.person_id = pc.person_id \"+\n",
    "                  \"LEFT JOIN dbo.concept as c on c.concept_id = m.measurement_concept_id\")\n",
    "\n",
    "list_chunks = []\n",
    "for chunk in pd.io.sql.read_sql(measurements_query, conn, chunksize=1000000):\n",
    "    list_chunks.append(chunk.loc[chunk['person_id'].isin(df_pop['person_id'])])\n",
    "all_labs = pd.concat(list_chunks)\n",
    "all_labs.drop_duplicates(inplace=True)"
   ]
  },
  {
   "cell_type": "code",
   "execution_count": 24,
   "id": "374cc41d",
   "metadata": {},
   "outputs": [
    {
     "name": "stdout",
     "output_type": "stream",
     "text": [
      "5049658 5049658\n",
      "5049658\n"
     ]
    }
   ],
   "source": [
    "all_labs = all_labs.loc[all_labs['person_id'].isin(list(df_pop['person_id']))]\n",
    "all_labs = all_labs.loc[all_labs['measurement_concept_id']>0]\n",
    "all_labs = all_labs.merge(df_pop[['person_id', 'cohort_start_date', 'psychosis_diagnosis_date']], how='left', left_on = 'person_id', right_on='person_id')\n",
    "all_labs.drop_duplicates(inplace=True)\n",
    "print(len(all_labs), len(all_labs['measurement_id'].unique()))\n",
    "all_labs['measurement_id'] = all_labs['measurement_id'].astype(int)\n",
    "print(len(all_labs[['person_id', 'measurement_id', 'measurement_concept_id', 'measurement_date']].drop_duplicates()))"
   ]
  },
  {
   "cell_type": "code",
   "execution_count": 25,
   "id": "e6531272",
   "metadata": {},
   "outputs": [
    {
     "name": "stdout",
     "output_type": "stream",
     "text": [
      "0\n",
      "5049658\n",
      "62239\n"
     ]
    }
   ],
   "source": [
    "print(all_labs.isna().sum().sum())\n",
    "print(len(all_labs))\n",
    "print(len(all_labs['person_id'].unique()))\n",
    "all_labs.to_csv(save_path+'temporal_labs.csv', index=False)"
   ]
  },
  {
   "cell_type": "code",
   "execution_count": 27,
   "id": "cecc8aaf",
   "metadata": {},
   "outputs": [
    {
     "data": {
      "text/plain": [
       "0"
      ]
     },
     "execution_count": 27,
     "metadata": {},
     "output_type": "execute_result"
    }
   ],
   "source": [
    "del all_labs\n",
    "gc.collect()"
   ]
  },
  {
   "cell_type": "markdown",
   "id": "a56779db",
   "metadata": {},
   "source": [
    "# Conditions"
   ]
  },
  {
   "cell_type": "code",
   "execution_count": 28,
   "id": "ff70050d",
   "metadata": {},
   "outputs": [
    {
     "name": "stderr",
     "output_type": "stream",
     "text": [
      "/tmp/ipykernel_3377836/3283640529.py:8: UserWarning: pandas only supports SQLAlchemy connectable (engine/connection) or database string URI or sqlite3 DBAPI2 connection. Other DBAPI2 objects are not tested. Please consider using SQLAlchemy.\n",
      "  for chunk in pd.io.sql.read_sql(conds_query, conn, chunksize=1000000):\n"
     ]
    }
   ],
   "source": [
    "conds_query = (\"SELECT condition_occurrence_id, pc.person_id, pc.end_date, condition_start_date, condition_concept_id, c.concept_name \"+\n",
    "                  \"FROM results.ak4885_psychosis_cohort_3yrs as pc \"+\n",
    "                  \"LEFT JOIN dbo.condition_occurrence as co on co.person_id = pc.person_id \"+\n",
    "                  \"LEFT JOIN dbo.concept as c on c.concept_id = co.condition_concept_id \"+\n",
    "                  \"WHERE condition_concept_id > 0\")\n",
    "\n",
    "list_chunks = []\n",
    "for chunk in pd.io.sql.read_sql(conds_query, conn, chunksize=1000000):\n",
    "    list_chunks.append(chunk.loc[chunk['person_id'].isin(df_pop['person_id'])])\n",
    "all_conds = pd.concat(list_chunks)\n",
    "all_conds.drop_duplicates(inplace=True)"
   ]
  },
  {
   "cell_type": "code",
   "execution_count": 29,
   "id": "2b3f516c",
   "metadata": {},
   "outputs": [
    {
     "name": "stdout",
     "output_type": "stream",
     "text": [
      "13924685 13924685\n",
      "13924685\n"
     ]
    }
   ],
   "source": [
    "all_conds = all_conds.loc[all_conds['person_id'].isin(list(df_pop['person_id']))]\n",
    "all_conds = all_conds.merge(df_pop[['person_id', 'cohort_start_date', 'psychosis_diagnosis_date']], how='left', left_on = 'person_id', right_on='person_id')\n",
    "all_conds.drop_duplicates(inplace=True)\n",
    "all_conds['condition_occurrence_id'] = all_conds['condition_occurrence_id'].astype(int)\n",
    "print(len(all_conds), len(all_conds['condition_occurrence_id'].unique()))\n",
    "print(len(all_conds[['person_id', 'condition_occurrence_id', 'condition_concept_id', 'condition_start_date']].drop_duplicates()))"
   ]
  },
  {
   "cell_type": "code",
   "execution_count": 30,
   "id": "adb8e86a",
   "metadata": {},
   "outputs": [
    {
     "name": "stdout",
     "output_type": "stream",
     "text": [
      "0\n",
      "13924685\n",
      "63062\n"
     ]
    }
   ],
   "source": [
    "print(all_conds.isna().sum().sum())\n",
    "print(len(all_conds))\n",
    "print(len(all_conds['person_id'].unique()))\n",
    "all_conds.to_csv(save_path+'temporal_conditions.csv', index=False)"
   ]
  },
  {
   "cell_type": "code",
   "execution_count": null,
   "id": "43afb2e2",
   "metadata": {},
   "outputs": [],
   "source": []
  },
  {
   "cell_type": "code",
   "execution_count": null,
   "id": "2013136d",
   "metadata": {},
   "outputs": [],
   "source": []
  }
 ],
 "metadata": {
  "kernelspec": {
   "display_name": "Python 3",
   "language": "python",
   "name": "python3"
  },
  "language_info": {
   "codemirror_mode": {
    "name": "ipython",
    "version": 3
   },
   "file_extension": ".py",
   "mimetype": "text/x-python",
   "name": "python",
   "nbconvert_exporter": "python",
   "pygments_lexer": "ipython3",
   "version": "3.10.7"
  },
  "vscode": {
   "interpreter": {
    "hash": "aee8b7b246df8f9039afb4144a1f6fd8d2ca17a180786b69acc140d282b71a49"
   }
  }
 },
 "nbformat": 4,
 "nbformat_minor": 5
}
