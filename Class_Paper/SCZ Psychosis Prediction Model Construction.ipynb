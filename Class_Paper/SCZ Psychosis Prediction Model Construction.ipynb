{
 "cells": [
  {
   "cell_type": "code",
   "execution_count": 2,
   "id": "18bbd1b9",
   "metadata": {},
   "outputs": [],
   "source": [
    "import numpy as np\n",
    "import os\n",
    "import pandas as pd\n",
    "import pyodbc\n",
    "import time\n",
    "import scipy.stats as stats\n",
    "from sqlalchemy import create_engine\n",
    "import matplotlib.pyplot as plt\n",
    "from datetime import datetime\n",
    "from tqdm import tqdm\n",
    "from collections import Counter\n",
    "from datetime import datetime\n",
    "import sys\n",
    "import gc\n",
    "from scipy.sparse import csr_matrix\n",
    "import pyarrow as pa\n",
    "import torch\n",
    "from sklearn.model_selection import train_test_split, KFold\n",
    "from sklearn.preprocessing import StandardScaler, MinMaxScaler\n",
    "from sklearn.metrics import *\n",
    "import torch\n",
    "import torch.nn as nn\n",
    "import torch.nn.functional as F\n",
    "from torch.autograd import Variable"
   ]
  },
  {
   "cell_type": "code",
   "execution_count": 3,
   "id": "8d31c5f1",
   "metadata": {},
   "outputs": [],
   "source": [
    "connection_string = (\n",
    "    'DRIVER={ODBC Driver 17 for SQL Server};'\n",
    "    'SERVER=OMOP.DBMI.COLUMBIA.EDU;'\n",
    "    'DATABASE=cdm_mdcd;'\n",
    "    'TRUSTED_CONNECTION=YES;')\n",
    "\n",
    "conn = pyodbc.connect(connection_string)"
   ]
  },
  {
   "cell_type": "markdown",
   "id": "9b586d79",
   "metadata": {},
   "source": [
    "# Combine data from various sources to create data object for the model\n",
    "- Load in df_pop and subset to the patients you want\n",
    "    - num_days_prediction is the right censor (cutoff time)\n",
    "    - can also choose here to downsample negative patients\n",
    "- Read in each of the individual dataframes and limit to patients that are consistent with df_pop and num_days_prediction\n",
    "- Process dataframes so I only keep the columns: person_id, days until cohort start, and concept_id (and rename them)\n",
    "    - Also remove rare events (<1% of population)\n",
    "    - For medications get separate entries for each day that the person was on the medication\n",
    "    - For visits, get separate entries (and a separate feature) for number of \"overnights\" for inpatient and ED visits\n",
    "- Concatenate the following dataframes: all_visits, all_conds, all_meds, all_procedures, all_labs, los_df (overnights, see above) and group individual days into chunks of times\n",
    "- Create the sparse dataframe using pandas grouper\n",
    "- Turn the sparse dataframe into a dense dataframe with all indices (including rows that are completely empty)"
   ]
  },
  {
   "cell_type": "code",
   "execution_count": 14,
   "id": "a6f95444",
   "metadata": {},
   "outputs": [],
   "source": [
    "num_days_prediction = 90\n",
    "df_pop = pd.read_csv('psychosis_prediction/population.csv')\n",
    "df_pop['psychosis_diagnosis_date'] = pd.to_datetime(df_pop['psychosis_diagnosis_date'], format=\"mixed\")\n",
    "df_pop['cohort_start_date'] = pd.to_datetime(df_pop['cohort_start_date'])\n",
    "df_pop = df_pop.loc[(df_pop['cohort_start_date']-df_pop['psychosis_diagnosis_date']).dt.days >= num_days_prediction]\n",
    "\n",
    "# limit the negative class using a random subsample for class balance\n",
    "negative_pids = df_pop.loc[df_pop['sz_flag']==0, 'person_id']\n",
    "negative_subsample = np.random.randint(0,len(negative_pids),8000)\n",
    "df_pop = df_pop.loc[(df_pop['person_id'].isin(negative_pids.iloc[negative_subsample])) | (df_pop['sz_flag']==1)]"
   ]
  },
  {
   "cell_type": "code",
   "execution_count": 16,
   "id": "71b7ba49",
   "metadata": {},
   "outputs": [
    {
     "name": "stderr",
     "output_type": "stream",
     "text": [
      "/tmp/ipykernel_399374/1439883620.py:11: DtypeWarning: Columns (9) have mixed types. Specify dtype option on import or set low_memory=False.\n",
      "  all_conds = pd.read_csv('psychosis_prediction/temporal_conditions.csv')\n",
      "/tmp/ipykernel_399374/1439883620.py:27: DtypeWarning: Columns (9) have mixed types. Specify dtype option on import or set low_memory=False.\n",
      "  all_labs = pd.read_csv('psychosis_prediction/temporal_labs.csv')\n"
     ]
    }
   ],
   "source": [
    "# read in the data from each of the individual domains/tables\n",
    "all_visits = pd.read_csv('psychosis_prediction/temporal_visits.csv')\n",
    "all_visits = all_visits.loc[all_visits['person_id'].isin(df_pop['person_id'])]\n",
    "all_visits['cohort_start_date'] = pd.to_datetime(all_visits['cohort_start_date'])\n",
    "all_visits['visit_start_date'] = pd.to_datetime(all_visits['visit_start_date'])\n",
    "all_visits['visit_end_date'] = pd.to_datetime(all_visits['visit_end_date'])\n",
    "all_visits = all_visits.loc[(all_visits['cohort_start_date']-all_visits['visit_end_date']).dt.days >= num_days_prediction]\n",
    "all_visits = all_visits.loc[(all_visits['cohort_start_date']-all_visits['visit_start_date']).dt.days <= 2555]\n",
    "all_visits['days_to_cohort_start'] = (all_visits['cohort_start_date']-all_visits['visit_start_date']).dt.days\n",
    "\n",
    "all_conds = pd.read_csv('psychosis_prediction/temporal_conditions.csv')\n",
    "all_conds = all_conds.loc[all_conds['person_id'].isin(df_pop['person_id'])]\n",
    "all_conds['cohort_start_date'] = pd.to_datetime(all_conds['cohort_start_date'])\n",
    "all_conds['condition_start_date'] = pd.to_datetime(all_conds['condition_start_date'])\n",
    "all_conds['days_to_cohort_start'] = (all_conds['cohort_start_date']-all_conds['condition_start_date']).dt.days\n",
    "all_conds = all_conds.loc[all_conds['days_to_cohort_start'] >= num_days_prediction]\n",
    "all_conds = all_conds.loc[all_conds['days_to_cohort_start'] <= 2555]\n",
    "\n",
    "all_procedures = pd.read_csv('psychosis_prediction/temporal_procedures.csv')\n",
    "all_procedures = all_procedures.loc[all_procedures['person_id'].isin(df_pop['person_id'])]\n",
    "all_procedures['cohort_start_date'] = pd.to_datetime(all_procedures['cohort_start_date'])\n",
    "all_procedures['procedure_date'] = pd.to_datetime(all_procedures['procedure_date'])\n",
    "all_procedures['days_to_cohort_start'] = (all_procedures['cohort_start_date']-all_procedures['procedure_date']).dt.days\n",
    "all_procedures = all_procedures.loc[all_procedures['days_to_cohort_start'] >= num_days_prediction]\n",
    "all_procedures = all_procedures.loc[all_procedures['days_to_cohort_start'] <= 2555]\n",
    "\n",
    "all_labs = pd.read_csv('psychosis_prediction/temporal_labs.csv')\n",
    "all_labs = all_labs.loc[all_labs['person_id'].isin(df_pop['person_id'])]\n",
    "all_labs['cohort_start_date'] = pd.to_datetime(all_labs['cohort_start_date'])\n",
    "all_labs['measurement_date'] = pd.to_datetime(all_labs['measurement_date'])\n",
    "all_labs['days_to_cohort_start'] = (all_labs['cohort_start_date']-all_labs['measurement_date']).dt.days\n",
    "all_labs = all_labs.loc[all_labs['days_to_cohort_start'] >= num_days_prediction]\n",
    "all_labs = all_labs.loc[all_labs['days_to_cohort_start'] <= 2555]\n",
    "\n",
    "all_meds = pd.read_csv('psychosis_prediction/temporal_medications.csv')\n",
    "all_meds = all_meds.loc[all_meds['person_id'].isin(df_pop['person_id'])]\n",
    "all_meds['cohort_start_date'] = pd.to_datetime(all_meds['cohort_start_date'])\n",
    "all_meds['drug_era_start_date'] = pd.to_datetime(all_meds['drug_era_start_date'])\n",
    "all_meds['drug_era_end_date'] = pd.to_datetime(all_meds['drug_era_end_date'])\n",
    "all_meds = all_meds.loc[(all_meds['cohort_start_date']-all_meds['drug_era_end_date']).dt.days >= num_days_prediction]\n",
    "all_meds = all_meds.loc[(all_meds['cohort_start_date']-all_meds['drug_era_start_date']).dt.days <= 2555]\n",
    "all_meds['days_to_cohort_start'] = (all_meds['cohort_start_date']-all_meds['drug_era_start_date']).dt.days"
   ]
  },
  {
   "cell_type": "markdown",
   "id": "18b9eb84",
   "metadata": {},
   "source": [
    "### Process each dataframe so that they are easier to merge"
   ]
  },
  {
   "cell_type": "code",
   "execution_count": 17,
   "id": "94007926",
   "metadata": {},
   "outputs": [],
   "source": [
    "def remove_rare_events(df, threshold=0.01):\n",
    "    \"\"\"\n",
    "    This function takes in a dataframe with columns \"person_id\" and \"concept_id\". It counts \n",
    "    the number of unique patients for whom each concept exists and limits the dataframe to \n",
    "    concepts that exist in at least [threshold] fraction of patients\n",
    "    \"\"\"\n",
    "    remove_rare_events = df[['person_id', 'concept_id']].drop_duplicates().value_counts('concept_id')\n",
    "    keep_events = list(remove_rare_events[remove_rare_events > threshold*len(df['person_id'].unique())].index)\n",
    "    df = df.loc[df['concept_id'].isin(keep_events)]\n",
    "    return df"
   ]
  },
  {
   "cell_type": "code",
   "execution_count": 20,
   "id": "7210a37f",
   "metadata": {},
   "outputs": [],
   "source": [
    "# change the names of the columns to make next concatenation easier\n",
    "all_procedures = all_procedures[['person_id', 'days_to_cohort_start', 'procedure_concept_id']].drop_duplicates()\n",
    "all_procedures.rename({'procedure_concept_id':'concept_id'}, axis=1, inplace=True)\n",
    "all_procedures = remove_rare_events(all_procedures)\n",
    "\n",
    "all_labs = all_labs[['person_id', 'days_to_cohort_start', 'measurement_concept_id']].drop_duplicates()\n",
    "all_labs.rename({'measurement_concept_id':'concept_id'}, axis=1, inplace=True)\n",
    "all_labs = remove_rare_events(all_labs)\n",
    "\n",
    "all_conds = all_conds[['person_id', 'condition_concept_id', 'days_to_cohort_start']].drop_duplicates()\n",
    "all_conds.rename({'condition_concept_id':'concept_id'}, axis=1, inplace=True)\n",
    "all_conds = remove_rare_events(all_conds)"
   ]
  },
  {
   "cell_type": "markdown",
   "id": "0712b5d4",
   "metadata": {},
   "source": [
    "For medications, extend the dataframe so the person has one entry for each day they are on that medication"
   ]
  },
  {
   "cell_type": "code",
   "execution_count": 27,
   "id": "6896146c",
   "metadata": {},
   "outputs": [
    {
     "name": "stderr",
     "output_type": "stream",
     "text": [
      "/tmp/ipykernel_399374/1264632904.py:1: SettingWithCopyWarning: \n",
      "A value is trying to be set on a copy of a slice from a DataFrame.\n",
      "Try using .loc[row_indexer,col_indexer] = value instead\n",
      "\n",
      "See the caveats in the documentation: https://pandas.pydata.org/pandas-docs/stable/user_guide/indexing.html#returning-a-view-versus-a-copy\n",
      "  all_meds['days_exposed'] = (all_meds['drug_era_end_date']-all_meds['drug_era_start_date']).dt.days\n"
     ]
    }
   ],
   "source": [
    "all_meds['days_exposed'] = (all_meds['drug_era_end_date']-all_meds['drug_era_start_date']).dt.days\n",
    "all_meds = all_meds[['person_id', 'days_exposed','drug_concept_id', 'days_to_cohort_start']].drop_duplicates()\n",
    "# change the name to make merging the dfs easier later\n",
    "all_meds.rename({'drug_concept_id':'concept_id'}, axis=1, inplace=True)\n",
    "\n",
    "all_meds = remove_rare_events(all_meds)"
   ]
  },
  {
   "cell_type": "code",
   "execution_count": 29,
   "id": "91c1038b",
   "metadata": {},
   "outputs": [
    {
     "name": "stdout",
     "output_type": "stream",
     "text": [
      "685330\n",
      "24370\n",
      "597768\n"
     ]
    },
    {
     "name": "stderr",
     "output_type": "stream",
     "text": [
      "100%|██████████████████████████████████| 597768/597768 [01:16<00:00, 7792.01it/s]\n"
     ]
    },
    {
     "data": {
      "text/plain": [
       "37340285"
      ]
     },
     "execution_count": 29,
     "metadata": {},
     "output_type": "execute_result"
    }
   ],
   "source": [
    "print(len(all_meds))\n",
    "single_day_meds = all_meds.loc[all_meds['days_exposed']==1]\n",
    "multi_day_meds = all_meds.loc[all_meds['days_exposed']>1]\n",
    "list_temp_arrs = []\n",
    "for i in tqdm(range(0,len(multi_day_meds))):\n",
    "    n_repeats = multi_day_meds.iloc[i]['days_exposed']\n",
    "    temp_arr = multi_day_meds.iloc[i].values.reshape(-1, 1).repeat(n_repeats, axis=0).reshape(4,n_repeats).T\n",
    "    replace_days_to_cohort_start = np.arange(multi_day_meds.iloc[i]['days_to_cohort_start'], multi_day_meds.iloc[i]['days_to_cohort_start']-n_repeats, -1)\n",
    "    temp_arr[:,-1] = replace_days_to_cohort_start\n",
    "    list_temp_arrs.append(temp_arr)\n",
    "    \n",
    "multi_day_meds = pd.DataFrame(np.vstack(list_temp_arrs), columns = single_day_meds.columns)\n",
    "all_meds = pd.concat([multi_day_meds, single_day_meds])\n",
    "\n",
    "all_meds.drop(['days_exposed'], axis=1, inplace=True)\n",
    "len(all_meds)"
   ]
  },
  {
   "cell_type": "markdown",
   "id": "269db57f",
   "metadata": {},
   "source": [
    "For visits (specifically inpatient and ED), create a new dataframe (los_df) where each \"overnight\" that they are on this visit is a separate entry. Then, we can change the feature numbers (9204 and 9207) and treat this as a separate feature from number of visits of each type. los_df will also be concatenated along with all_visits, etc."
   ]
  },
  {
   "cell_type": "code",
   "execution_count": 30,
   "id": "363f8d66",
   "metadata": {},
   "outputs": [
    {
     "name": "stderr",
     "output_type": "stream",
     "text": [
      "100%|████████████████████████████████████| 31691/31691 [00:04<00:00, 7761.02it/s]\n"
     ]
    },
    {
     "data": {
      "text/plain": [
       "252561"
      ]
     },
     "execution_count": 30,
     "metadata": {},
     "output_type": "execute_result"
    }
   ],
   "source": [
    "all_visits['los'] = (all_visits['visit_end_date']-all_visits['visit_start_date']).dt.days\n",
    "los_df = all_visits.loc[all_visits['visit_concept_id'].isin([9201, 9203])]\n",
    "los_df = los_df.loc[los_df['los']>0]\n",
    "los_df = los_df[['person_id', 'visit_concept_id', 'los', 'days_to_cohort_start']]\n",
    "\n",
    "list_temp_arrs = []\n",
    "for i in tqdm(range(0,len(los_df))):\n",
    "    n_repeats = los_df.iloc[i]['los']\n",
    "    temp_arr = los_df.iloc[i].values.reshape(-1, 1).repeat(n_repeats, axis=0).reshape(4,n_repeats).T\n",
    "    replace_days_to_cohort_start = np.arange(los_df.iloc[i]['days_to_cohort_start'], los_df.iloc[i]['days_to_cohort_start']-n_repeats, -1)\n",
    "    temp_arr[:,-1] = replace_days_to_cohort_start\n",
    "    list_temp_arrs.append(temp_arr)\n",
    "\n",
    "los_df = pd.DataFrame(np.vstack(list_temp_arrs), columns = ['person_id', 'concept_id', 'los', 'days_to_cohort_start'])\n",
    "los_df['concept_id'].replace({9201:9205, 9203:9207}, inplace=True)\n",
    "los_df.drop(['los'], axis=1, inplace=True)\n",
    "len(los_df)"
   ]
  },
  {
   "cell_type": "code",
   "execution_count": 31,
   "id": "fb31bc2e",
   "metadata": {},
   "outputs": [],
   "source": [
    "all_visits = all_visits[['person_id', 'days_to_cohort_start', 'visit_concept_id']].drop_duplicates()\n",
    "all_visits.rename({'visit_concept_id':'concept_id'}, axis=1, inplace=True)"
   ]
  },
  {
   "cell_type": "markdown",
   "id": "88a7fc74",
   "metadata": {},
   "source": [
    "### Concatenate all these dataframes"
   ]
  },
  {
   "cell_type": "code",
   "execution_count": 32,
   "id": "09b1d2b3",
   "metadata": {},
   "outputs": [],
   "source": [
    "all_features = pd.concat([all_conds, all_meds, los_df, all_visits, all_labs, all_procedures])"
   ]
  },
  {
   "cell_type": "markdown",
   "id": "125f565c",
   "metadata": {},
   "source": [
    "### Rather than day-by-day, group the days into chunks of size time_chunk"
   ]
  },
  {
   "cell_type": "code",
   "execution_count": 33,
   "id": "4a40538f",
   "metadata": {},
   "outputs": [],
   "source": [
    "time_chunk = 90\n",
    "all_features['days_to_cohort_start'] = all_features['days_to_cohort_start']//time_chunk"
   ]
  },
  {
   "cell_type": "markdown",
   "id": "68e5065e",
   "metadata": {},
   "source": [
    "## Create sparse dataframe"
   ]
  },
  {
   "cell_type": "code",
   "execution_count": 34,
   "id": "feea9bcd",
   "metadata": {},
   "outputs": [],
   "source": [
    "grpr_row = all_features.groupby(['person_id', 'days_to_cohort_start']).grouper\n",
    "idx_row = grpr_row.group_info[0]\n",
    "\n",
    "grpr_col = all_features.groupby('concept_id').grouper\n",
    "idx_col = grpr_col.group_info[0]\n",
    "\n",
    "sparse_data = csr_matrix((all_features['concept_id'].values, (idx_row, idx_col)),shape=(grpr_row.ngroups, grpr_col.ngroups))\n",
    "\n",
    "df_index = grpr_row.result_index\n",
    "df_columns = list(grpr_col.result_index)\n",
    "sparse_df = pd.DataFrame.sparse.from_spmatrix(sparse_data, index = df_index, columns = df_columns)\n",
    "\n",
    "\"\"\"\n",
    "The above code is summing the concept_id within each time chunk. \n",
    "Therefore, if I divide by the concept id (which is the column name), I will get the number of \n",
    "times this occurs in each cohort\n",
    "\"\"\"\n",
    "for i in sparse_df.columns:\n",
    "    sparse_df[i] = sparse_df[i]/i"
   ]
  },
  {
   "cell_type": "markdown",
   "id": "0c443dc0",
   "metadata": {},
   "source": [
    "Right now, the sparse index does not have the same number of time chunks per person -- it only has time chunks where there is a feature present. Next, I want to change the sparse_df to a regular dataframe (also so I can do scaling) where the index is 1. person_id; 2. time_chunk"
   ]
  },
  {
   "cell_type": "code",
   "execution_count": null,
   "id": "9003a7b8",
   "metadata": {},
   "outputs": [],
   "source": []
  },
  {
   "cell_type": "code",
   "execution_count": 43,
   "id": "10d79c76",
   "metadata": {},
   "outputs": [],
   "source": [
    "# Create an empty dataframe where each of the people/times I want exist\n",
    "index_patients = sparse_df.index.get_level_values(0).unique()\n",
    "patient_indices = np.arange(0,len(index_patients), 1)\n",
    "\n",
    "time_chunks = np.arange(1, all_features['days_to_cohort_start'].max()+1, 1)\n",
    "feature_indices = np.arange(0, sparse_df.shape[1], 1)\n",
    "\n",
    "df_features = pd.DataFrame(data = 0, index = pd.MultiIndex.from_product([index_patients, time_chunks], names=[\"person_id\", \"time_chunk\"]), columns = sparse_df.columns, dtype='int8')"
   ]
  },
  {
   "cell_type": "code",
   "execution_count": 44,
   "id": "1608b1b4",
   "metadata": {},
   "outputs": [],
   "source": [
    "# populate df_features with the data from sparse_df\n",
    "sparse_df = sparse_df[sparse_df.index.get_level_values(1)>0]\n",
    "df_features.loc[sparse_df.index] = sparse_df.values # non-sparse matrix"
   ]
  },
  {
   "cell_type": "markdown",
   "id": "7bfb1aaf",
   "metadata": {},
   "source": [
    "# Preprocessing of dataframe\n",
    "- Turn the dataframe df_features into a sparse dataframe to reduce memory\n",
    "- Create train-test split\n",
    "- Min-Max Scaling (so that I can maintain sparsity)\n",
    "- Save data"
   ]
  },
  {
   "cell_type": "code",
   "execution_count": 56,
   "id": "a57d42ac",
   "metadata": {},
   "outputs": [],
   "source": [
    "# make the dataframe sparse for faster processing\n",
    "sparse_df_features = pd.DataFrame.sparse.from_spmatrix(csr_matrix(df_features.values), index = pd.MultiIndex.from_product([index_patients, time_chunks], names=[\"person_id\", \"time_chunk\"]), columns = sparse_df.columns)"
   ]
  },
  {
   "cell_type": "markdown",
   "id": "8584b151",
   "metadata": {},
   "source": [
    "### Train-test split"
   ]
  },
  {
   "cell_type": "code",
   "execution_count": 57,
   "id": "87d0d6f6",
   "metadata": {},
   "outputs": [],
   "source": [
    "# create my y_values vector in the correct order (according to index_patients)\n",
    "mat_y = np.asarray(df_pop.set_index('person_id').loc[index_patients, 'sz_flag']).reshape(len(df_pop), 1)\n",
    "\n",
    "# get first train-test split (to get test test data)\n",
    "train_pop, test_pop, train_labels, test_labels, train_inds, test_inds = train_test_split(df_pop, mat_y, np.arange(0, len(df_pop), 1), random_state=23, test_size=0.2, stratify=mat_y)"
   ]
  },
  {
   "cell_type": "code",
   "execution_count": 73,
   "id": "941d1831",
   "metadata": {},
   "outputs": [],
   "source": [
    "# create training/testing feature sets\n",
    "train_sparse_mat = sparse_df_features.loc[train_pop['person_id']].values\n",
    "test_sparse_mat = sparse_df_features.loc[test_pop['person_id']].values\n",
    "\n",
    "# create training/testing labels\n",
    "y_train = mat_y[train_inds]\n",
    "y_test = mat_y[test_inds]"
   ]
  },
  {
   "cell_type": "markdown",
   "id": "72b978c4",
   "metadata": {},
   "source": [
    "### Min-Max Scale the data"
   ]
  },
  {
   "cell_type": "code",
   "execution_count": 74,
   "id": "36fa1279",
   "metadata": {},
   "outputs": [
    {
     "name": "stdout",
     "output_type": "stream",
     "text": [
      "done with fit/first transform\n"
     ]
    }
   ],
   "source": [
    "scaler = MinMaxScaler()\n",
    "train_sparse_mat = scaler.fit_transform(train_sparse_mat)\n",
    "print('done with fit/first transform')\n",
    "test_sparse_mat = scaler.transform(test_sparse_mat)"
   ]
  },
  {
   "cell_type": "markdown",
   "id": "f035a3e3",
   "metadata": {},
   "source": [
    "### Save preprocessed data"
   ]
  },
  {
   "cell_type": "code",
   "execution_count": 4,
   "id": "16346f17",
   "metadata": {},
   "outputs": [
    {
     "ename": "NameError",
     "evalue": "name 'train_sparse_mat' is not defined",
     "output_type": "error",
     "traceback": [
      "\u001b[0;31m---------------------------------------------------------------------------\u001b[0m",
      "\u001b[0;31mNameError\u001b[0m                                 Traceback (most recent call last)",
      "\u001b[0;32m/tmp/ipykernel_690044/1617695511.py\u001b[0m in \u001b[0;36m<module>\u001b[0;34m\u001b[0m\n\u001b[0;32m----> 1\u001b[0;31m \u001b[0mnp\u001b[0m\u001b[0;34m.\u001b[0m\u001b[0msavez\u001b[0m\u001b[0;34m(\u001b[0m\u001b[0;34m'psychosis_prediction/90days_balanced_features_labels.npz'\u001b[0m\u001b[0;34m,\u001b[0m \u001b[0mtrain_sparse_mat\u001b[0m\u001b[0;34m,\u001b[0m \u001b[0mtest_sparse_mat\u001b[0m\u001b[0;34m,\u001b[0m \u001b[0my_train\u001b[0m\u001b[0;34m,\u001b[0m \u001b[0my_test\u001b[0m\u001b[0;34m)\u001b[0m\u001b[0;34m\u001b[0m\u001b[0;34m\u001b[0m\u001b[0m\n\u001b[0m",
      "\u001b[0;31mNameError\u001b[0m: name 'train_sparse_mat' is not defined"
     ]
    }
   ],
   "source": [
    "np.savez('psychosis_prediction/90days_balanced_features_labels.npz', train_sparse_mat, test_sparse_mat, y_train, y_test)"
   ]
  },
  {
   "cell_type": "markdown",
   "id": "3f9bbb24",
   "metadata": {},
   "source": [
    "# Use preprocessed data to create the data loader objects\n",
    "- Load in data\n",
    "- Create train/validation split from X_train, y_train (stratified)"
   ]
  },
  {
   "cell_type": "code",
   "execution_count": 5,
   "id": "fae82602",
   "metadata": {},
   "outputs": [],
   "source": [
    "loaded_mats = np.load('psychosis_prediction/90days_balanced_features_labels.npz')\n",
    "X_trainval, X_test, y_trainval, y_test = loaded_mats['arr_0'], loaded_mats['arr_1'], loaded_mats['arr_2'], loaded_mats['arr_3']"
   ]
  },
  {
   "cell_type": "code",
   "execution_count": 9,
   "id": "3976f4e2",
   "metadata": {},
   "outputs": [],
   "source": [
    "# this gves us the training/validation indices; then when we make the data 3d we can \n",
    "# get X_train and X_val\n",
    "train_inds, val_inds, train_labels, test_labels = train_test_split(np.arange(0, len(y_trainval), 1), y_trainval, random_state=24, test_size=0.1, stratify=y_trainval)\n",
    "\n",
    "y_val = y_trainval[val_inds]\n",
    "y_train = y_trainval[train_inds]"
   ]
  },
  {
   "cell_type": "code",
   "execution_count": 13,
   "id": "b9dd96c0",
   "metadata": {},
   "outputs": [
    {
     "name": "stdout",
     "output_type": "stream",
     "text": [
      "(1901, 2089, 28)\n",
      "(6842, 2089, 28)\n",
      "(761, 2089, 28)\n"
     ]
    }
   ],
   "source": [
    "# transform the data into a 3-dimensional matrix\n",
    "# person_id x features x sequence\n",
    "num_train_pop = len(y_train)\n",
    "num_test_pop = len(y_test)\n",
    "num_val_pop = len(y_val)\n",
    "len_sequence = int(X_trainval.shape[0]/len(y_trainval))\n",
    "\n",
    "num_features = X_trainval.shape[1]\n",
    "test_mat_features = X_test.reshape(num_test_pop, len_sequence, num_features).transpose(0, 2, 1)\n",
    "print(test_mat_features.shape)\n",
    "\n",
    "trainval_mat_features = X_trainval.reshape(num_train_pop+num_val_pop, len_sequence, num_features).transpose(0, 2, 1)\n",
    "train_mat_features = trainval_mat_features[train_inds,:,:]\n",
    "print(train_mat_features.shape)\n",
    "val_mat_features = trainval_mat_features[val_inds,:,:]\n",
    "print(val_mat_features.shape)"
   ]
  },
  {
   "cell_type": "markdown",
   "id": "a3acf8dc",
   "metadata": {},
   "source": [
    "### Create dataloader objects"
   ]
  },
  {
   "cell_type": "code",
   "execution_count": 14,
   "id": "932b83da",
   "metadata": {},
   "outputs": [],
   "source": [
    "batchsize=600"
   ]
  },
  {
   "cell_type": "code",
   "execution_count": 60,
   "id": "863c4a5b",
   "metadata": {},
   "outputs": [],
   "source": [
    "train_data = torch.utils.data.TensorDataset(torch.Tensor(train_mat_features), torch.Tensor(y_train))\n",
    "train_loader = torch.utils.data.DataLoader(train_data, batch_size=batchsize, shuffle=True)"
   ]
  },
  {
   "cell_type": "code",
   "execution_count": 61,
   "id": "2cf5f0e2",
   "metadata": {},
   "outputs": [],
   "source": [
    "val_data = torch.utils.data.TensorDataset(torch.Tensor(val_mat_features), torch.Tensor(y_val))\n",
    "val_loader = torch.utils.data.DataLoader(val_data, batch_size=batchsize, shuffle=True)"
   ]
  },
  {
   "cell_type": "code",
   "execution_count": 17,
   "id": "ca9d00aa",
   "metadata": {},
   "outputs": [],
   "source": [
    "test_data = torch.utils.data.TensorDataset(torch.Tensor(test_mat_features), torch.Tensor(y_test))\n",
    "test_loader = torch.utils.data.DataLoader(test_data, batch_size=batchsize)"
   ]
  },
  {
   "cell_type": "code",
   "execution_count": 104,
   "id": "3d38d79b",
   "metadata": {},
   "outputs": [],
   "source": [
    "path_train = 'psychosis_prediction/train_loader.pth'\n",
    "path_val = 'psychosis_prediction/train_loader.pth'\n",
    "path_test = 'psychosis_prediction/train_loader.pth'\n",
    "\n",
    "torch.save(train_loader, path_train)\n",
    "torch.save(val_loader, path_val)\n",
    "torch.save(test_loader, path_test)\n",
    "\n",
    "device = torch.device(\"cuda:0\") "
   ]
  },
  {
   "cell_type": "markdown",
   "id": "dfd59feb",
   "metadata": {},
   "source": [
    "# Attention Model"
   ]
  },
  {
   "cell_type": "code",
   "execution_count": 120,
   "id": "accd7eba",
   "metadata": {},
   "outputs": [],
   "source": [
    "class AttentionModel(torch.nn.Module):\n",
    "    def __init__(self, hidden_size, feature_size):\n",
    "        super(AttentionModel, self).__init__()\n",
    "        self.device = 'cuda' if torch.cuda.is_available() else 'cpu'\n",
    "        self.hidden_size = hidden_size\n",
    "        self.feature_size = feature_size\n",
    "        # self.W_s1 = nn.Linear(hidden_size, 350)\n",
    "        # self.W_s2 = nn.Linear(350, 30)\n",
    "        self.W_s1 = nn.Linear(hidden_size, 1)\n",
    "        # self.fc_layer = nn.Linear(30 * hidden_size, 2000)\n",
    "        self.rnn = nn.GRU(self.feature_size, self.hidden_size, bidirectional=False)\n",
    "        self.regressor = nn.Sequential(nn.BatchNorm1d(num_features=hidden_size),\n",
    "                                       nn.LeakyReLU(),\n",
    "                                       nn.Dropout(0.4),\n",
    "                                       nn.LeakyReLU(),\n",
    "                                       nn.Linear(hidden_size, 1),\n",
    "                                       nn.LeakyReLU(),\n",
    "                                       nn.Sigmoid())\n",
    "\n",
    "    def attention_net(self, lstm_output):\n",
    "        attn_weight_vector = F.tanh(self.W_s1(lstm_output))\n",
    "        attn_weight_vector = torch.nn.Softmax(dim=1)(attn_weight_vector)\n",
    "        scaled_latent = lstm_output*attn_weight_vector\n",
    "        return torch.sum(scaled_latent, dim=1), attn_weight_vector\n",
    "\n",
    "    def forward(self, input):\n",
    "        input = input.to(self.device)\n",
    "        batch_size = input.shape[0]\n",
    "        input = input.permute(2, 0, 1) # Input to GRU should be (seq_len, batch, input_size)\n",
    "        h_0 = Variable(torch.zeros(1, batch_size, self.hidden_size)).to(self.device) #(num_layers * num_directions, batch, hidden_size)\n",
    "\n",
    "        output, final_hidden_state = self.rnn(input, h_0)   # output.size() =  (seq_len, batch, hidden_size)\n",
    "                                                            # final_hidden_state.size() = (1, batch, hidden_size)\n",
    "        output = output.permute(1, 0, 2)  # output.size() = (batch, seq_len, hidden_size)\n",
    "\n",
    "        concept_vector, attn_weights = self.attention_net(output)\n",
    "        # attn_weight_matrix.size() = (batch_size, num_seq)\n",
    "        #hidden_matrix = torch.bmm(attn_weight_matrix, output)   # hidden_matrix.size() = (batch_size, r, hidden_size)\n",
    "        #fc_out = self.fc_layer(hidden_matrix.view(-1, hidden_matrix.size()[1] * hidden_matrix.size()[2]))\n",
    "        p = self.regressor(concept_vector)\n",
    "        return p\n",
    "\n",
    "    def get_attention_weights(self, input):\n",
    "        input = input.to(self.device)\n",
    "        batch_size = input.shape[0]\n",
    "        input = input.permute(2, 0, 1) # Input to GRU should be (seq_len, batch, input_size)\n",
    "        h_0 = Variable(torch.zeros(1, batch_size, self.hidden_size)).to(self.device) #(num_layers * num_directions, batch, hidden_size)\n",
    "\n",
    "        output, final_hidden_state = self.rnn(input, h_0)   # output.size() =  (seq_len, batch, hidden_size)\n",
    "                                                            # final_hidden_state.size() = (1, batch, hidden_size)\n",
    "        output = output.permute(1, 0, 2)  # output.size() = (batch, seq_len, hidden_size)\n",
    "\n",
    "        _, attn_weights = self.attention_net(output)\n",
    "        return attn_weights"
   ]
  },
  {
   "cell_type": "markdown",
   "id": "5d25f234",
   "metadata": {},
   "source": [
    "# LSTM from Scratch"
   ]
  },
  {
   "cell_type": "code",
   "execution_count": 121,
   "id": "296ad381",
   "metadata": {},
   "outputs": [],
   "source": [
    "class RNNModel(torch.nn.Module):\n",
    "    def __init__(self, hidden_size, feature_size, seq_len):\n",
    "        super(RNNModel, self).__init__()\n",
    "        self.device = 'cuda' if torch.cuda.is_available() else 'cpu'\n",
    "        self.hidden_size = hidden_size\n",
    "        self.feature_size = feature_size\n",
    "        self.W_s1 = nn.Linear(hidden_size, 1)\n",
    "        self.seq_len = seq_len\n",
    "        # self.fc_layer = nn.Linear(30 * hidden_size, 2000)\n",
    "        self.rnn = nn.GRU(self.feature_size, self.hidden_size, num_layers = 4, bidirectional=False)\n",
    "        self.regressor = nn.Sequential(nn.Linear(self.hidden_size*self.seq_len, 150),\n",
    "                                       nn.LeakyReLU(),\n",
    "                                       nn.Dropout(0.2),\n",
    "                                       nn.LeakyReLU(),\n",
    "                                       nn.Linear(150,1),\n",
    "                                       nn.LeakyReLU(),\n",
    "                                       nn.Sigmoid())\n",
    "        \n",
    "    def forward(self, X):\n",
    "        X = X.to(self.device)\n",
    "        batch_size = X.shape[0]\n",
    "        X = X.permute(2, 0, 1) # Input to GRU should be (seq_len, batch, input_size)\n",
    "        h_0 = Variable(torch.rand(4, batch_size, self.hidden_size)).to(self.device) #(num_layers * num_directions, batch, hidden_size)\n",
    "        h_0 = h_0*2-1\n",
    "        \n",
    "        output, final_hidden_state = self.rnn(X, h_0)   # output.size() =  (seq_len, batch, hidden_size)\n",
    "                                                            # final_hidden_state.size() = (1, batch, hidden_size)\n",
    "        output = output.permute(1, 0, 2)  # output.size() = (batch, seq_len, hidden_size)\n",
    "\n",
    "        output = output.reshape((output.shape[0], output.shape[1]*output.shape[2]))\n",
    "        \n",
    "        p = self.regressor(output)\n",
    "        return p\n",
    "\n",
    "    \n"
   ]
  },
  {
   "cell_type": "markdown",
   "id": "f54ca2a4",
   "metadata": {},
   "source": [
    "# Training Functions"
   ]
  },
  {
   "cell_type": "code",
   "execution_count": 122,
   "id": "3d6d8a7c",
   "metadata": {},
   "outputs": [],
   "source": [
    "device = torch.device(\"cuda:0\") \n",
    "loss_weights = torch.tensor(sum(y_train==0)/sum(y_train)).to(device)\n",
    "def train(train_loader, model, device, optimizer, loss_criterion=torch.nn.BCEWithLogitsLoss(pos_weight = loss_weights)):\n",
    "    model = model.to(device)\n",
    "    model.train()\n",
    "    auc_train = 0\n",
    "    epoch_loss = 0\n",
    "    list_training_loss = []\n",
    "    true_ys = []\n",
    "    pred_ys = []\n",
    "    for i, (signals, labels) in enumerate(train_loader):\n",
    "        optimizer.zero_grad()\n",
    "        signals, labels = torch.Tensor(signals.float()).to(device), torch.Tensor(labels.float()).to(device)\n",
    "        #labels = labels.view(labels.shape[0], )\n",
    "        logits = model(signals) #probability of one of the outputs\n",
    "        true_ys.append(labels.detach().cpu().numpy())\n",
    "        pred_ys.append(logits.detach().cpu().numpy())\n",
    "\n",
    "        loss = loss_criterion(logits, labels)\n",
    "        epoch_loss = + loss.item()\n",
    "        list_training_loss.append(loss.item())\n",
    "        loss.backward()\n",
    "        optimizer.step()\n",
    "    true_ys_flattened = np.concatenate(true_ys).ravel()\n",
    "    pred_ys_flattened = np.concatenate(pred_ys).ravel()\n",
    "    pred_labels = (pred_ys_flattened>0.5)*1\n",
    "    \n",
    "    auc_train = roc_auc_score(true_ys_flattened, pred_ys_flattened)\n",
    "    auprc_train = average_precision_score(true_ys_flattened, pred_ys_flattened)\n",
    "    correct_label = accuracy_score(true_ys_flattened, pred_labels)\n",
    "    #precision_train = precision_score(true_ys_flattened, pred_labels)\n",
    "    precision_train = 'change'\n",
    "    recall_train = recall_score(true_ys_flattened, pred_labels)\n",
    "\n",
    "    return recall_train, precision_train, auc_train,auprc_train, correct_label, np.mean(list_training_loss), i + 1\n",
    "\n",
    "def test(test_loader, model, device, criteria=torch.nn.BCEWithLogitsLoss(pos_weight = loss_weights), verbose=True):\n",
    "    model.to(device)\n",
    "    correct_label = 0\n",
    "    count = 0\n",
    "    loss = 0\n",
    "    total = 0\n",
    "    model.eval()\n",
    "    list_testing_loss = []\n",
    "    true_ys = []\n",
    "    pred_ys = []\n",
    "    for i, (x, y) in enumerate(test_loader):\n",
    "        x, y = torch.Tensor(x.float()).to(device), torch.Tensor(y.float()).to(device)\n",
    "        out = model(x)\n",
    "        #y = y.view(y.shape[0], )\n",
    "        \n",
    "        pred_labels = (out > 0.5)*1\n",
    "        true_ys.append(y.detach().cpu().numpy())\n",
    "        pred_ys.append(out.detach().cpu().numpy())\n",
    "\n",
    "        count = + 1\n",
    "        loss += criteria(out, y).item()\n",
    "        list_testing_loss.append(criteria(out, y).item())\n",
    "        total += len(x)\n",
    "    \n",
    "    true_ys_flattened = np.concatenate(true_ys).ravel()\n",
    "    pred_ys_flattened = np.concatenate(pred_ys).ravel()\n",
    "    pred_labels = (pred_ys_flattened>0.5)*1\n",
    "    print(sum(pred_labels))\n",
    "    auc_test = roc_auc_score(true_ys_flattened, pred_ys_flattened)\n",
    "    auprc_test = average_precision_score(true_ys_flattened, pred_ys_flattened)\n",
    "    recall_test = recall_score(true_ys_flattened, pred_labels)\n",
    "    correct_label = accuracy_score(true_ys_flattened, pred_labels)\n",
    "    #precision_test = precision_score(true_ys_flattened, pred_labels)\n",
    "    precision_test = 'change'\n",
    "\n",
    "    return recall_test, precision_test, auc_test, auprc_test, correct_label, np.mean(list_testing_loss)\n",
    "\n",
    "def train_model(model, train_loader, valid_loader, optimizer, n_epochs, device ,cv=0):\n",
    "    train_loss_trend = []\n",
    "    test_loss_trend = []\n",
    "\n",
    "    for epoch in range(n_epochs + 1):\n",
    "        recall_train, precision_train, auc_train, auprc_train, correct_label_train, epoch_loss, n_batches = train(train_loader,\n",
    "                                                                                                     model,\n",
    "                                                                                                     device, optimizer)\n",
    "        recall_test, precision_test, auc_test, auprc_test, correct_label_test, test_loss = test(valid_loader, model,\n",
    "                                                                                    device)\n",
    "        train_loss_trend.append(epoch_loss)\n",
    "        test_loss_trend.append(test_loss)\n",
    "        lr_scheduler.step()\n",
    "        if epoch % 10 == 0:\n",
    "            print('\\nEpoch %d' % (epoch))\n",
    "            print('Training ===>loss: ', epoch_loss,\n",
    "                  ' Accuracy: %.2f percent' % (100*correct_label_train),\n",
    "                  ' AUC: %.2f' % (auc_train),\n",
    "                 ' AUPRC: %.2f' % (auprc_train))\n",
    "            print('Test ===>loss: ', test_loss,\n",
    "                  ' Accuracy: %.2f percent' % (100*correct_label_test),\n",
    "                  ' AUC: %.2f' % (auc_test),\n",
    "                 ' AUPRC: %.2f' % (auprc_test))\n",
    "        \"\"\"\n",
    "        if epoch > 10:\n",
    "            if test_loss_trend[-2] < test_loss_trend[-1]:\n",
    "                print('Breaking at epoch', epoch)\n",
    "                break\n",
    "        \"\"\"\n",
    "\n",
    "    # Save model and results\n",
    "    \"\"\"\n",
    "    if not os.path.exists(os.path.join(\"./ckpt/\", data)):\n",
    "        os.mkdir(os.path.join(\"./ckpt/\", data))\n",
    "    if not os.path.exists(os.path.join(\"./plots/\", data)):\n",
    "        os.mkdir(os.path.join(\"./plots/\", data))\n",
    "    \"\"\"\n",
    "    torch.save(model.state_dict(), 'psychosis_prediction/models/new_features_model1.pt')\n",
    "    plt.plot(train_loss_trend, label='Train loss')\n",
    "    plt.plot(test_loss_trend, label='Validation loss')\n",
    "    plt.legend()\n",
    "    plt.savefig('psychosis_prediction/models/new_features_model1_loss.pdf')\n",
    "    "
   ]
  },
  {
   "cell_type": "code",
   "execution_count": 123,
   "id": "b215ed06",
   "metadata": {
    "scrolled": true
   },
   "outputs": [
    {
     "name": "stdout",
     "output_type": "stream",
     "text": [
      "baseline AUPRC: [0.1870798]\n",
      "20\n",
      "\n",
      "Epoch 0\n",
      "Training ===>loss:  1.1825622916221619  Accuracy: 59.09 percent  AUC: 0.55  AUPRC: 0.20\n",
      "Test ===>loss:  1.1716631650924683  Accuracy: 79.50 percent  AUC: 0.56  AUPRC: 0.20\n",
      "6\n",
      "2\n",
      "6\n",
      "1\n",
      "48\n",
      "77\n",
      "83\n",
      "226\n",
      "160\n",
      "233\n",
      "\n",
      "Epoch 10\n",
      "Training ===>loss:  1.1667788624763489  Accuracy: 71.54 percent  AUC: 0.65  AUPRC: 0.39\n",
      "Test ===>loss:  1.1780044436454773  Accuracy: 61.76 percent  AUC: 0.54  AUPRC: 0.21\n",
      "221\n",
      "180\n",
      "220\n",
      "271\n",
      "207\n",
      "258\n",
      "305\n",
      "209\n",
      "270\n",
      "248\n",
      "\n",
      "Epoch 20\n",
      "Training ===>loss:  1.1553741991519928  Accuracy: 71.88 percent  AUC: 0.72  AUPRC: 0.56\n",
      "Test ===>loss:  1.181088149547577  Accuracy: 62.42 percent  AUC: 0.54  AUPRC: 0.20\n"
     ]
    },
    {
     "data": {
      "image/png": "[encoded data removed]",
      "text/plain": [
       "<Figure size 432x288 with 1 Axes>"
      ]
     },
     "metadata": {
      "needs_background": "light"
     },
     "output_type": "display_data"
    }
   ],
   "source": [
    "print('baseline AUPRC:',sum(y_train)/len(y_train))\n",
    "\n",
    "#train_loader = torch.load('psychosis_prediction/train_loader.pth')\n",
    "#val_loader = torch.load('psychosis_prediction/val_loader.pth')\n",
    "\n",
    "n_epochs = 20\n",
    "batch_size=batchsize\n",
    "feature_size = train_mat_features.shape[1]\n",
    "\n",
    "#for train_loader, val_loader in zip()\n",
    "model = AttentionModel(hidden_size = 250, feature_size = feature_size)\n",
    "#model = RNNModel(hidden_size = 6, feature_size = feature_size, seq_len = train_mat_features.shape[2])\n",
    "parameters = model.parameters()\n",
    "optimizer = torch.optim.Adam(parameters, lr=1e-3, weight_decay=0.01)\n",
    "lr_scheduler = torch.optim.lr_scheduler.ExponentialLR(optimizer=optimizer, gamma=0.9)\n",
    "\n",
    "\n",
    "train_model(model, train_loader, val_loader, optimizer, n_epochs, device ,cv=0)\n"
   ]
  },
  {
   "cell_type": "code",
   "execution_count": null,
   "id": "910f11f4",
   "metadata": {},
   "outputs": [],
   "source": []
  }
 ],
 "metadata": {
  "kernelspec": {
   "display_name": "Python 3 (ipykernel)",
   "language": "python",
   "name": "python3"
  },
  "language_info": {
   "codemirror_mode": {
    "name": "ipython",
    "version": 3
   },
   "file_extension": ".py",
   "mimetype": "text/x-python",
   "name": "python",
   "nbconvert_exporter": "python",
   "pygments_lexer": "ipython3",
   "version": "3.10.12"
  }
 },
 "nbformat": 4,
 "nbformat_minor": 5
}
